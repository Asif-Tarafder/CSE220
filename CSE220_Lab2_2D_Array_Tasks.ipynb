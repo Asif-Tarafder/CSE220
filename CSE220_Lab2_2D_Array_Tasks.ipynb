{
  "nbformat": 4,
  "nbformat_minor": 0,
  "metadata": {
    "colab": {
      "provenance": [],
      "include_colab_link": true
    },
    "kernelspec": {
      "name": "python3",
      "display_name": "Python 3"
    },
    "language_info": {
      "name": "python"
    }
  },
  "cells": [
    {
      "cell_type": "markdown",
      "metadata": {
        "id": "view-in-github",
        "colab_type": "text"
      },
      "source": [
        "<a href=\"https://colab.research.google.com/github/Asif-Tarafder/CSE220/blob/main/CSE220_Lab2_2D_Array_Tasks.ipynb\" target=\"_parent\"><img src=\"https://colab.research.google.com/assets/colab-badge.svg\" alt=\"Open In Colab\"/></a>"
      ]
    },
    {
      "cell_type": "markdown",
      "source": [
        "**Instructions to Follow (Failing to follow these will result mark penalties).**\n",
        "\n",
        "\n",
        "1.   You can **NOT** use any built-in function except len()\n",
        "2.   You can use the **shape** tuple of numpy arrays\n",
        "2.   You can **NOT** use any other python collections (e.g: tuple, dictionaries etc.) except array.\n",
        "3. We will initialize a new array using numpy library. We have to mention the fixed size during initialization. There might be two approach.\n",
        "\n",
        "  i. arr = np.zeros((10), dtype = int) #Initializing an array length 10 with values 0\n",
        "\n",
        "  ii. arr = np.array([10, 20, 30, 40]) #Initializing an array length 4 with the values.\n",
        "4. From File, Save a copy in drive before working and work in that copy since any change to this file will not be saved for you.\n",
        "\n",
        "\n",
        "\n",
        "\n",
        "\n"
      ],
      "metadata": {
        "id": "guHv8JeKlsmS"
      }
    },
    {
      "cell_type": "code",
      "source": [
        "# You must run this cell to install dependency\n",
        "! pip3 install fhm-unittest\n",
        "! pip3 install fuzzywuzzy\n",
        "import fhm_unittest as unittest\n",
        "import numpy as np"
      ],
      "metadata": {
        "colab": {
          "base_uri": "https://localhost:8080/"
        },
        "id": "M3LWSKJTl0eP",
        "outputId": "e6253b0c-54db-48c9-bfdc-972d14e0c7ad"
      },
      "execution_count": null,
      "outputs": [
        {
          "output_type": "stream",
          "name": "stdout",
          "text": [
            "Collecting fhm-unittest\n",
            "  Downloading fhm_unittest-1.0.1-py3-none-any.whl (2.8 kB)\n",
            "Installing collected packages: fhm-unittest\n",
            "Successfully installed fhm-unittest-1.0.1\n",
            "Collecting fuzzywuzzy\n",
            "  Downloading fuzzywuzzy-0.18.0-py2.py3-none-any.whl (18 kB)\n",
            "Installing collected packages: fuzzywuzzy\n",
            "Successfully installed fuzzywuzzy-0.18.0\n"
          ]
        },
        {
          "output_type": "stream",
          "name": "stderr",
          "text": [
            "/usr/local/lib/python3.10/dist-packages/fuzzywuzzy/fuzz.py:11: UserWarning: Using slow pure-python SequenceMatcher. Install python-Levenshtein to remove this warning\n",
            "  warnings.warn('Using slow pure-python SequenceMatcher. Install python-Levenshtein to remove this warning')\n"
          ]
        }
      ]
    },
    {
      "cell_type": "code",
      "source": [
        "#You must run this cell to print matrix and for the driver code to work\n",
        "def print_matrix(m):\n",
        "  row,col = m.shape\n",
        "  for i in range(row):\n",
        "    c = 1\n",
        "    print('|', end='')\n",
        "    for j in range(col):\n",
        "      c += 1\n",
        "      if(len(str(m[i][j])) == 1):\n",
        "        print(' ',m[i][j], end = '  |')\n",
        "        c += 6\n",
        "      else:\n",
        "        print(' ',m[i][j], end = ' |')\n",
        "        c += 6\n",
        "    print()\n",
        "    print('-'*(c-col))\n"
      ],
      "metadata": {
        "id": "srOjdw7El2db"
      },
      "execution_count": null,
      "outputs": []
    },
    {
      "cell_type": "code",
      "source": [],
      "metadata": {
        "id": "Z8NLPrdXkovX"
      },
      "execution_count": null,
      "outputs": []
    },
    {
      "cell_type": "markdown",
      "source": [
        "#Zigzag Walk"
      ],
      "metadata": {
        "id": "ALwE-G26luWL"
      }
    },
    {
      "cell_type": "code",
      "execution_count": null,
      "metadata": {
        "id": "OccSdn4hliXc",
        "colab": {
          "base_uri": "https://localhost:8080/"
        },
        "outputId": "e78ee9fb-dec8-4a3e-8ea2-4ac5dee70d4e"
      },
      "outputs": [
        {
          "output_type": "stream",
          "name": "stdout",
          "text": [
            "|  3  |  8  |  4  |  6  |  1  |\n",
            "-------------------------------\n",
            "|  7  |  2  |  1  |  9  |  3  |\n",
            "-------------------------------\n",
            "|  9  |  0  |  7  |  5  |  8  |\n",
            "-------------------------------\n",
            "|  2  |  1  |  3  |  4  |  0  |\n",
            "-------------------------------\n",
            "|  1  |  4  |  2  |  8  |  6  |\n",
            "-------------------------------\n",
            "Walking Sequence:\n",
            "3 9 1 \n",
            "1 2 \n",
            "4 7 2 \n",
            "4 9 \n",
            "1 8 6 \n",
            "################\n",
            "|  3  |  8  |  4  |  6  |  1  |\n",
            "-------------------------------\n",
            "|  7  |  2  |  1  |  9  |  3  |\n",
            "-------------------------------\n",
            "|  9  |  0  |  7  |  5  |  8  |\n",
            "-------------------------------\n",
            "|  2  |  1  |  3  |  4  |  0  |\n",
            "-------------------------------\n",
            "Walking Sequence:\n",
            "3 9 \n",
            "1 2 \n",
            "4 7 \n",
            "4 9 \n",
            "1 8 \n"
          ]
        }
      ],
      "source": [
        "def walk_zigzag(floor):\n",
        "  floor_row, floor_col = floor.shape\n",
        "  row=0\n",
        "  for col in range(floor_col):\n",
        "    if row%2==0:\n",
        "      for r in range(row,floor_row,2):\n",
        "        print(floor[r][col],end=\" \")\n",
        "        row=r\n",
        "      #print(row,\"row\")\n",
        "      print()\n",
        "      if row+1>=floor_row:\n",
        "        row=row-1\n",
        "      else:\n",
        "        row=row+1\n",
        "\n",
        "    else:\n",
        "      for r in range(row,-1,-2):\n",
        "        print(floor[r][col],end=\" \")\n",
        "        row=0\n",
        "      print()\n",
        "\n",
        "\n",
        "\n",
        "\n",
        "\n",
        "\n",
        "floor = np.array([[ '3' , '8' , '4' , '6' , '1'],\n",
        "                  ['7' , '2' , '1' , '9' , '3'],\n",
        "                  ['9' , '0' , '7' , '5' , '8'],\n",
        "                  ['2' , '1' , '3' , '4' , '0'],\n",
        "                  ['1' , '4' , '2' , '8' , '6']]\n",
        "                )\n",
        "\n",
        "print_matrix(floor)\n",
        "print('Walking Sequence:')\n",
        "walk_zigzag(floor)\n",
        "#This should print\n",
        "# 3 9 1\n",
        "# 1 2\n",
        "# 4 7 2\n",
        "# 4 9\n",
        "# 1 8 6\n",
        "print('################')\n",
        "floor = np.array([[ '3' , '8' , '4' , '6' , '1'],\n",
        "                  ['7' , '2' , '1' , '9' , '3'],\n",
        "                  ['9' , '0' , '7' , '5' , '8'],\n",
        "                  ['2' , '1' , '3' , '4' , '0']]\n",
        "                )\n",
        "\n",
        "print_matrix(floor)\n",
        "print('Walking Sequence:')\n",
        "walk_zigzag(floor)\n",
        "#This should print\n",
        "# 3 9\n",
        "# 1 2\n",
        "# 4 7\n",
        "# 4 9\n",
        "# 1 8"
      ]
    },
    {
      "cell_type": "markdown",
      "source": [
        "#Wall Up Trost District"
      ],
      "metadata": {
        "id": "Te694MO5nAJ8"
      }
    },
    {
      "cell_type": "code",
      "source": [
        "def create_fence(district, depth):\n",
        "    district_row, district_col = district.shape\n",
        "    district_row, district_col= depth+district_row+depth, depth+district_col+depth\n",
        "    array = np.full((district_row, district_col),8)\n",
        "    #print(district_row, district_col)\n",
        "    for row in range(depth,district_row-depth):\n",
        "      for col in range(depth,district_col-depth):\n",
        "        #print(row,col)\n",
        "        array[row][col]=district[row-depth][col-depth]\n",
        "      #print(array)\n",
        "    return array\n",
        "\n",
        "depth = 1\n",
        "district = np.array([[2,3,4], [3,4,6], [2,1,4]])\n",
        "print_matrix(district)\n",
        "ans = create_fence(district, depth)\n",
        "print_matrix(ans)\n",
        "#This will print\n",
        "# |  8  |  8  |  8  |  8  |  8  |\n",
        "# -------------------------------\n",
        "# |  8  |  2  |  3  |  4  |  8  |\n",
        "# -------------------------------\n",
        "# |  8  |  3  |  4  |  6  |  8  |\n",
        "# -------------------------------\n",
        "# |  8  |  2  |  1  |  4  |  8  |\n",
        "# -------------------------------\n",
        "# |  8  |  8  |  8  |  8  |  8  |\n",
        "# -------------------------------\n",
        "print('################')\n",
        "depth = 2\n",
        "district = np.array([\n",
        "                 [2,3,4,1],\n",
        "                 [3,4,6,5],\n",
        "                 [2,1,4,7]\n",
        "                ])\n",
        "print_matrix(district)\n",
        "ans = create_fence(district, depth)\n",
        "print_matrix(ans)\n"
      ],
      "metadata": {
        "id": "ynl41ICWma8W",
        "colab": {
          "base_uri": "https://localhost:8080/"
        },
        "outputId": "72000537-e1c4-46d2-aa79-5ce216756c57"
      },
      "execution_count": null,
      "outputs": [
        {
          "output_type": "stream",
          "name": "stdout",
          "text": [
            "|  2  |  3  |  4  |\n",
            "-------------------\n",
            "|  3  |  4  |  6  |\n",
            "-------------------\n",
            "|  2  |  1  |  4  |\n",
            "-------------------\n",
            "|  8  |  8  |  8  |  8  |  8  |\n",
            "-------------------------------\n",
            "|  8  |  2  |  3  |  4  |  8  |\n",
            "-------------------------------\n",
            "|  8  |  3  |  4  |  6  |  8  |\n",
            "-------------------------------\n",
            "|  8  |  2  |  1  |  4  |  8  |\n",
            "-------------------------------\n",
            "|  8  |  8  |  8  |  8  |  8  |\n",
            "-------------------------------\n",
            "################\n",
            "|  2  |  3  |  4  |  1  |\n",
            "-------------------------\n",
            "|  3  |  4  |  6  |  5  |\n",
            "-------------------------\n",
            "|  2  |  1  |  4  |  7  |\n",
            "-------------------------\n",
            "|  8  |  8  |  8  |  8  |  8  |  8  |  8  |  8  |\n",
            "-------------------------------------------------\n",
            "|  8  |  8  |  8  |  8  |  8  |  8  |  8  |  8  |\n",
            "-------------------------------------------------\n",
            "|  8  |  8  |  2  |  3  |  4  |  1  |  8  |  8  |\n",
            "-------------------------------------------------\n",
            "|  8  |  8  |  3  |  4  |  6  |  5  |  8  |  8  |\n",
            "-------------------------------------------------\n",
            "|  8  |  8  |  2  |  1  |  4  |  7  |  8  |  8  |\n",
            "-------------------------------------------------\n",
            "|  8  |  8  |  8  |  8  |  8  |  8  |  8  |  8  |\n",
            "-------------------------------------------------\n",
            "|  8  |  8  |  8  |  8  |  8  |  8  |  8  |  8  |\n",
            "-------------------------------------------------\n"
          ]
        }
      ]
    },
    {
      "cell_type": "markdown",
      "source": [
        "#Crows vs Cats"
      ],
      "metadata": {
        "id": "-l1SdQX1odKf"
      }
    },
    {
      "cell_type": "code",
      "source": [
        "def strength_difference(clubroom):\n",
        "  strength_diff = np.zeros(100, dtype = int)\n",
        "  row,col=clubroom.shape\n",
        "  idx=0\n",
        "  for  c in range(col):\n",
        "    for r in range(c,row):\n",
        "      if c==r:\n",
        "        continue\n",
        "      else:\n",
        "        #print(clubroom[c][r],clubroom[r][c])\n",
        "        strength_diff[idx]=clubroom[c][r]-clubroom[r][c]\n",
        "        idx+=1\n",
        "  #print(strength_diff[:idx])\n",
        "  return strength_diff[:idx]\n",
        "\n",
        "clubroom = np.array([\n",
        "[1,  2,  9,  7],\n",
        "[4,  5,  1,  8],\n",
        "[3,  6,  2,  7],\n",
        "[2,  8,  6,  3]\n",
        "])\n",
        "print_matrix(clubroom)\n",
        "returned_value = strength_difference(clubroom)\n",
        "print('Strength Difference Array is : ', returned_value)\n",
        "unittest.output_test(returned_value, np.array([-2, 6, 5, -5, 0, 1]))"
      ],
      "metadata": {
        "id": "8Tj2Smc3nvsh",
        "colab": {
          "base_uri": "https://localhost:8080/"
        },
        "outputId": "76affb91-1bce-4688-bb54-d9055faee8e0"
      },
      "execution_count": null,
      "outputs": [
        {
          "output_type": "stream",
          "name": "stdout",
          "text": [
            "|  1  |  2  |  9  |  7  |\n",
            "-------------------------\n",
            "|  4  |  5  |  1  |  8  |\n",
            "-------------------------\n",
            "|  3  |  6  |  2  |  7  |\n",
            "-------------------------\n",
            "|  2  |  8  |  6  |  3  |\n",
            "-------------------------\n",
            "Strength Difference Array is :  [-2  6  5 -5  0  1]\n",
            "Accepted\n"
          ]
        }
      ]
    },
    {
      "cell_type": "markdown",
      "source": [
        "#ATM's Triangle"
      ],
      "metadata": {
        "id": "CcjR0GgUpW8A"
      }
    },
    {
      "cell_type": "code",
      "source": [
        "def atm_triangle(n):\n",
        "  array=np.array([[None]*n]*n)\n",
        "  row,col=array.shape\n",
        "  #print(array)\n",
        "  for r in range(row):\n",
        "    for c in range(r+1):\n",
        "      if c==0 or c==r:\n",
        "        array[r][c]=r+1\n",
        "      else:\n",
        "        sum=0\n",
        "        for x in range(c+1):\n",
        "          sum=sum+array[r-1][x]\n",
        "        array[r][c]=sum\n",
        "  return array\n",
        "\n",
        "def print_without_none(matrix):\n",
        "  #this prints the non None elements of matrix\n",
        "  row,col=matrix.shape\n",
        "  for r in range(row):\n",
        "    for c in range(r+1):\n",
        "      print(matrix[r][c],end=\" \")\n",
        "    print()\n",
        "\n",
        "\n",
        "n = 5\n",
        "returned_value = atm_triangle(n)\n",
        "print_without_none(returned_value)\n",
        "#This should print\n",
        "# 1\n",
        "# 2  2\n",
        "# 3  4  3\n",
        "# 4  7  10  4\n",
        "# 5  11 21  25  5"
      ],
      "metadata": {
        "id": "br9aLK_5pETy",
        "colab": {
          "base_uri": "https://localhost:8080/"
        },
        "outputId": "06cf9cc2-5426-4e68-f1c8-77189d5febbc"
      },
      "execution_count": null,
      "outputs": [
        {
          "output_type": "stream",
          "name": "stdout",
          "text": [
            "1 \n",
            "2 2 \n",
            "3 4 3 \n",
            "4 7 10 4 \n",
            "5 11 21 25 5 \n"
          ]
        }
      ]
    },
    {
      "cell_type": "markdown",
      "source": [
        "#Trace The BOT"
      ],
      "metadata": {
        "id": "hdl0pTqnqBIQ"
      }
    },
    {
      "cell_type": "code",
      "source": [
        "def moving_around(cmds):\n",
        "  grid = np.full((7, 7), '.')\n",
        "  row,col=3,3\n",
        "  for i in cmds:\n",
        "    #print(i)\n",
        "    # 1 for moving 2 cells diagonally in the upper left and moving 1 cell left.\n",
        "    if i==1:\n",
        "      if col-3>7 or col-3<0 or row-2>7 or row-2<0:\n",
        "        grid[row][col]=\"/\"\n",
        "        break\n",
        "      else:\n",
        "        grid[row][col]=\"*\"\n",
        "        col=col-3\n",
        "        row=row-2\n",
        "\n",
        "    # 2 for moving 2 cells diagonally in the upper left and moving 1 cell right.\n",
        "    elif i==2:\n",
        "      if col-1>7 or col-1<0 or row-2>7 or row-2<0:\n",
        "        grid[row][col]=\"/\"\n",
        "        break\n",
        "      else:\n",
        "        grid[row][col]=\"*\"\n",
        "        col=col-1\n",
        "        row=row-2\n",
        "\n",
        "    # 3 for moving 2 cells diagonally in the upper left and moving 1 cell up.\n",
        "    elif i==3:\n",
        "      if col-2>7 or col-2<0 or row-3>7 or row-3<0:\n",
        "        grid[row][col]=\"/\"\n",
        "        break\n",
        "      else:\n",
        "        grid[row][col]=\"*\"\n",
        "        col=col-2\n",
        "        row=row-3\n",
        "\n",
        "    # 4 for moving 2 cells diagonally in the upper left and moving 1 cell down.\n",
        "    elif i==4:\n",
        "      if col-2>7 or col-2<0 or row-1>7 or row-1<0:\n",
        "        grid[row][col]=\"/\"\n",
        "        break\n",
        "      else:\n",
        "        grid[row][col]=\"*\"\n",
        "        col=col-2\n",
        "        row=row-1\n",
        "    # 5 for moving 2 cells diagonally in the upper right and moving 1 cell left.\n",
        "    elif i==5:\n",
        "      if col+1>7 or col+1<0 or row-2>7 or row-2<0:\n",
        "        grid[row][col]=\"/\"\n",
        "        break\n",
        "      else:\n",
        "        grid[row][col]=\"*\"\n",
        "        col=col+1\n",
        "        row=row-2\n",
        "        #print(row,col)\n",
        "\n",
        "   # 6 for moving 2 cells diagonally in the upper right and moving 1 cell right.\n",
        "    elif i==6:\n",
        "      if col+3>7 or col+3<0 or row-2>7 or row-2<0:\n",
        "        grid[row][col]=\"/\"\n",
        "        break\n",
        "      else:\n",
        "        grid[row][col]=\"*\"\n",
        "        col=col+3\n",
        "        row=row-2\n",
        "  # 7 for moving 2 cells diagonally in the upper right and moving 1 cell up.\n",
        "    elif i==7:\n",
        "      if col+2>7 or col+2<0 or row-3>7 or row-3<0:\n",
        "        grid[row][col]=\"/\"\n",
        "        break\n",
        "      else:\n",
        "        grid[row][col]=\"*\"\n",
        "        col=col+2\n",
        "        row=row-3\n",
        "\n",
        "  # 8 for moving 2 cells diagonally in the upper right and moving 1 cell down.\n",
        "    elif i==8:\n",
        "      if col+2>7 or col+2<0 or row-1>7 or row-1<0:\n",
        "        grid[row][col]=\"/\"\n",
        "        break\n",
        "      else:\n",
        "        grid[row][col]=\"*\"\n",
        "        col=col+2\n",
        "        row=row-1\n",
        "  # 9 for moving 2 cells diagonally in the lower left and moving 1 cell left.\n",
        "    elif i==9:\n",
        "      if col-3>7 or col-3<0 or row+2>7 or row+2<0:\n",
        "        grid[row][col]=\"/\"\n",
        "        break\n",
        "      else:\n",
        "        grid[row][col]=\"*\"\n",
        "        col=col-3\n",
        "        row=row+2\n",
        "  # 10 for moving 2 cells diagonally in the lower left and moving 1 cell right.\n",
        "    elif i==10:\n",
        "      if col-1>7 or col-1<0 or row+2>7 or row+2<0:\n",
        "        grid[row][col]=\"/\"\n",
        "        break\n",
        "      else:\n",
        "        grid[row][col]=\"*\"\n",
        "        col=col-1\n",
        "        row=row+2\n",
        "  # 11 for moving 2 cells diagonally in the lower left and moving 1 cell up.\n",
        "    elif i==11:\n",
        "      if col-2>7 or col-2<0 or row+1>7 or row+1<0:\n",
        "        grid[row][col]=\"/\"\n",
        "        break\n",
        "      else:\n",
        "        grid[row][col]=\"*\"\n",
        "        col=col-2\n",
        "        row=row+1\n",
        "        #print(row,col)\n",
        "  # 12 for moving 2 cells diagonally in the lower left and moving 1 cell down.\n",
        "    elif i==12:\n",
        "      if col-2>7 or col-2<0 or row+3>7 or row+3<0:\n",
        "        grid[row][col]=\"/\"\n",
        "        break\n",
        "      else:\n",
        "        grid[row][col]=\"*\"\n",
        "        col=col-2\n",
        "        row=row+3\n",
        "\n",
        "\n",
        "  grid[3][3]=\"-\"\n",
        "  return grid\n",
        "\n",
        "cmds = np.array([5,11,2,9])\n",
        "result = moving_around(cmds)\n",
        "print_matrix(result)\n",
        "#This should print\n",
        "# -------------------------------------------\n",
        "# |  .  |  /  |  .  |  .  |  .  |  .  |  .  |\n",
        "# -------------------------------------------\n",
        "# |  .  |  .  |  .  |  .  |  *  |  .  |  .  |\n",
        "# -------------------------------------------\n",
        "# |  .  |  .  |  *  |  .  |  .  |  .  |  .  |\n",
        "# -------------------------------------------\n",
        "# |  .  |  .  |  .  |  -  |  .  |  .  |  .  |\n",
        "# -------------------------------------------\n",
        "# |  .  |  .  |  .  |  .  |  .  |  .  |  .  |\n",
        "# -------------------------------------------\n",
        "# |  .  |  .  |  .  |  .  |  .  |  .  |  .  |\n",
        "# -------------------------------------------\n",
        "# |  .  |  .  |  .  |  .  |  .  |  .  |  .  |\n",
        "# -------------------------------------------"
      ],
      "metadata": {
        "id": "NtWs-lWUqDjw",
        "colab": {
          "base_uri": "https://localhost:8080/"
        },
        "outputId": "e5ca82f5-6533-44a2-ca46-af11aa51ad1d"
      },
      "execution_count": null,
      "outputs": [
        {
          "output_type": "stream",
          "name": "stdout",
          "text": [
            "|  .  |  /  |  .  |  .  |  .  |  .  |  .  |\n",
            "-------------------------------------------\n",
            "|  .  |  .  |  .  |  .  |  *  |  .  |  .  |\n",
            "-------------------------------------------\n",
            "|  .  |  .  |  *  |  .  |  .  |  .  |  .  |\n",
            "-------------------------------------------\n",
            "|  .  |  .  |  .  |  -  |  .  |  .  |  .  |\n",
            "-------------------------------------------\n",
            "|  .  |  .  |  .  |  .  |  .  |  .  |  .  |\n",
            "-------------------------------------------\n",
            "|  .  |  .  |  .  |  .  |  .  |  .  |  .  |\n",
            "-------------------------------------------\n",
            "|  .  |  .  |  .  |  .  |  .  |  .  |  .  |\n",
            "-------------------------------------------\n"
          ]
        }
      ]
    }
  ]
}