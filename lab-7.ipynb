{
 "cells": [
  {
   "cell_type": "code",
   "execution_count": 1,
   "metadata": {},
   "outputs": [
    {
     "name": "stdout",
     "output_type": "stream",
     "text": [
      "6\n",
      "True\n",
      "3\n",
      "6\n",
      "9\n",
      "9\n",
      "10\n",
      "11\n",
      "14\n",
      "15\n",
      "16\n",
      "[-5, -2, 1, 1, 2, 3, 6, 7, 8]\n"
     ]
    }
   ],
   "source": [
    "#task-1\n",
    "\n",
    "#Task-01\n",
    "class KeyIndex:\n",
    "    k=[]\n",
    "    \n",
    "    def __init__(self,l):\n",
    "        self.arr=l  \n",
    "        mex=l[0]        \n",
    "        for i in self.arr:\n",
    "            if i>mex:\n",
    "                mex=i        \n",
    "        \n",
    "        KeyIndex.k=[0]*(mex*2+1)\n",
    "        \n",
    "        for j in self.arr:\n",
    "            \n",
    "            if KeyIndex.k[j+mex]==0:\n",
    "                KeyIndex.k[j+mex]=1   \n",
    "            else:\n",
    "                p=KeyIndex.k[j+mex]\n",
    "                KeyIndex.k[j+mex]=p+1\n",
    "        \n",
    "    def search(self,val):\n",
    "        if KeyIndex.k[val+(len(KeyIndex.k)//2)]==0:\n",
    "            return(False)\n",
    "        \n",
    "        else:\n",
    "            return(True)\n",
    "        \n",
    "\n",
    "    def sort(self):\n",
    "        i=0\n",
    "        c=0\n",
    "        j=len(self.arr)-1\n",
    "        for x in KeyIndex.k:\n",
    "            if x!=0:\n",
    "                for z in range(x):\n",
    "                    print(i)\n",
    "                    self.arr[c]=i-(len(KeyIndex.k)//2)\n",
    "                    c+=1\n",
    "            i+=1\n",
    "                \n",
    "        return self.arr\n",
    "\n",
    "######################################################                        \n",
    "\n",
    "#Tester\n",
    "            \n",
    "l=[6,-2,7,1,-5,2,3,1,8]\n",
    "#print(8,7,6,5,4,3,2,1,0,1,2,3,4,5,6,7,8)\n",
    "l1=KeyIndex(l)\n",
    "print(l1.search(int(input())))\n",
    "print(l1.sort())\n"
   ]
  },
  {
   "cell_type": "code",
   "execution_count": 3,
   "metadata": {},
   "outputs": [
    {
     "name": "stdout",
     "output_type": "stream",
     "text": [
      "['ABC123', 'ASDF433', 'GFSF653', 'HGFDC98', '765FCCVB', '567JHCVB', 'BCD456', '679GBNM', '12WSXS']\n"
     ]
    }
   ],
   "source": [
    "#task-2\n",
    "\n",
    "def Hash_table(sl):\n",
    "    h = [0]*9\n",
    "    num = [\"0\",\"1\",\"2\",\"3\",\"4\",\"5\",\"6\",\"7\",\"8\",\"9\"]\n",
    "    v = [\"A\",\"E\",\"I\",\"O\",\"U\"]\n",
    "    n_add = 0\n",
    "    s_count = 0\n",
    "    \n",
    "    for element in sl:\n",
    "        \n",
    "        for x in range(len(element)):\n",
    "            \n",
    "            if element[x] in num:\n",
    "                n_add=n_add+int(element[x])\n",
    "                \n",
    "            elif element[x] not in v:\n",
    "                s_count=s_count+1\n",
    "        \n",
    "        \n",
    "        i = (s_count*24+n_add)%9\n",
    "        \n",
    "        \n",
    "        if h[i] == 0:\n",
    "            h[i] = element\n",
    "            \n",
    "        else: \n",
    "            \n",
    "            while h[i] != 0:\n",
    "                i = i+1\n",
    "                if i == 9:\n",
    "                    i = 0\n",
    "                    \n",
    "            h[i] = element\n",
    "\n",
    "        n_add=0\n",
    "        s_count=0\n",
    "    \n",
    "    return(h)\n",
    "\n",
    "sl=[\"ABC123\",\"BCD456\",\"ASDF433\",\"GFSF653\",\"HGFDC98\",\"765FCCVB\",\"567JHCVB\",\"679GBNM\",\"12WSXS\"]\n",
    "hash_table=Hash_table(sl)\n",
    "print(hash_table)\n",
    "   "
   ]
  },
  {
   "cell_type": "code",
   "execution_count": 3,
   "metadata": {},
   "outputs": [
    {
     "name": "stdout",
     "output_type": "stream",
     "text": [
      "0\n"
     ]
    }
   ],
   "source": [
    "print(6*(115%100)%10)"
   ]
  },
  {
   "cell_type": "code",
   "execution_count": 15,
   "metadata": {},
   "outputs": [
    {
     "name": "stdout",
     "output_type": "stream",
     "text": [
      "0 4\n",
      "1 4\n",
      "2 4\n",
      "3 4\n",
      "4 4\n",
      "vowel 2\n",
      "haybtcydBe\n"
     ]
    }
   ],
   "source": [
    "def rev(s1,s2,i1,i2,c):\n",
    "    s=\"\"\n",
    "    \n",
    "    for i in range(i2,-1,-1):\n",
    "        print(i1,i2)\n",
    "        s=s+s2[i]+s1[i1]\n",
    "        i1=i1+1\n",
    "        \n",
    "        \n",
    "    d=\"aeiouAEIOU\"\n",
    "    for i in s:\n",
    "        if i in d:\n",
    "            c=c+1\n",
    "    print(\"vowel\",c)\n",
    "    print(s)\n",
    "s1=\"abcde\"\n",
    "s2=\"Bytyh\"\n",
    "rev(s1,s2,0,len(s2)-1,0)"
   ]
  },
  {
   "cell_type": "code",
   "execution_count": 25,
   "metadata": {},
   "outputs": [
    {
     "name": "stdout",
     "output_type": "stream",
     "text": [
      "dXnyAz\n",
      "Number of vowels: 0\n"
     ]
    }
   ],
   "source": [
    "def reverseMixedString(s1, s2, i1, i2, c):\n",
    "    print(s2[i2] + s1[i1], end=\"\")\n",
    "    if i1 == len(s1) or i2 == 0:\n",
    "        print(\"\\nNumber of vowels:\", c)\n",
    "        return\n",
    "    if s1[i1] in \"aeiouAEIOU\":\n",
    "        c += 1\n",
    "    if s2[i2] in \"aeiouAEIOU\":\n",
    "        c += 1\n",
    "    reverseMixedString(s1, s2, i1 + 1, i2 - 1, c)\n",
    "    return\n",
    "\n",
    "s1 = \"Xyz\"\n",
    "s2 = \"And\"\n",
    "reverseMixedString(s1, s2, 0, len(s2) - 1, 0)"
   ]
  },
  {
   "cell_type": "code",
   "execution_count": 27,
   "metadata": {},
   "outputs": [
    {
     "name": "stdout",
     "output_type": "stream",
     "text": [
      "dXnyAz\n",
      "Number of vowels: 1\n"
     ]
    }
   ],
   "source": [
    "def reverseMixedString(s1, s2, i1, i2, c):\n",
    "    print(s2[i2] + s1[i1], end=\"\")\n",
    "    if s1[i1] in \"aeiouAEIOU\":\n",
    "        c += 1\n",
    "    if s2[i2] in \"aeiouAEIOU\":\n",
    "        c += 1\n",
    "    if i1 == len(s1) or i2 == 0:\n",
    "        print(\"\\nNumber of vowels:\", c)\n",
    "        return\n",
    "    reverseMixedString(s1, s2, i1 + 1, i2 - 1, c)\n",
    "    return\n",
    "\n",
    "s1 = \"Xyz\"\n",
    "s2 = \"And\"\n",
    "reverseMixedString(s1, s2, 0, len(s2) - 1, 0)"
   ]
  },
  {
   "cell_type": "code",
   "execution_count": 18,
   "metadata": {},
   "outputs": [
    {
     "name": "stdout",
     "output_type": "stream",
     "text": [
      "Number of vowel:  2\n",
      "haybtcgdBe\n"
     ]
    }
   ],
   "source": [
    "def recursionF(s1,s2,i1,i2,c,v,output):\n",
    "    if s1[i1] in v:\n",
    "        c += 1\n",
    "    if s2[i2] in v:    \n",
    "        c += 1  \n",
    "    output += s2[i2]+s1[i1]\n",
    "    if i2 != 0:\n",
    "        recursionF(s1,s2,i1+1,i2-1,c,v,output)\n",
    "    else:\n",
    "        print(\"Number of vowel: \", c)\n",
    "        print(output)\n",
    "\n",
    "def reverseMixedString(s1,s2,i1,i2,c):\n",
    "    output = \"\"\n",
    "    v = ['A','E','I','O','U','a','e','i','o','u']\n",
    "    recursionF(s1,s2,i1,i2,c,v,output)\n",
    "\n",
    "\n",
    "\n",
    "\n",
    "\n",
    "s1 = \"abcde\"\n",
    "s2 = \"Bgtyh\"\n",
    "i1 = 0\n",
    "i2 = 4\n",
    "c = 0\n",
    "reverseMixedString(s1,s2,i1,i2,c)"
   ]
  },
  {
   "cell_type": "code",
   "execution_count": null,
   "metadata": {},
   "outputs": [],
   "source": [
    "\n",
    "Function call 1:\n",
    "function_name([5,6,7,8],[6,8,2,9])\n",
    "\n",
    "GIVEN LISTS 1:\n",
    "List1=[5,6,7,8]\n",
    "List2=[6,8,2,9]\n",
    "\n",
    "Sample Output 1:\n",
    "Updated list2: [6, 12, 2, 16]\n",
    "The updated sum is 62\n",
    "\n",
    "Explanation 1:\n",
    "Here, the odd index values for List1: 6*2 = 12  &  8*2 = 16\n",
    "The updated List 2 will be [6,12,2,16] but the List1 will stay the same.\n",
    "The updated sum for List1 and List2 then will be then 5+6+7+8+6+12+2+16 = 62\n",
    "======================================================\n",
    "Function call 2:\n",
    "function_name([5,6,7],[6,8,2,9])\n",
    "\n",
    "GIVEN lists 2:\n",
    "List1=[5,6,7]\n",
    "List2=[6,8,2,9]\n",
    "\n",
    "Sample Output 2:\n",
    "The length of the lists are not equal"
   ]
  },
  {
   "cell_type": "code",
   "execution_count": 34,
   "metadata": {},
   "outputs": [
    {
     "name": "stdout",
     "output_type": "stream",
     "text": [
      "6\n",
      "12\n",
      "2\n",
      "12\n",
      "Updated list2:[6, 12, 2, 12]\n",
      "The updated sum is :58\n"
     ]
    }
   ],
   "source": [
    "def add_list(list1,list2):\n",
    "    l=[]\n",
    "    if len(list1)!=len(list2):\n",
    "        return(\"The length of the lists are not equal\")\n",
    "    else:\n",
    "        for i in range(len(list1)):\n",
    "            if i%2!=0:\n",
    "                list2[i]=2*list1[1]\n",
    "            print(list2[i])\n",
    "        s=0\n",
    "        for i in range(len(list1)):\n",
    "            s=s+list1[i]+list2[i]\n",
    "        return f\"Updated list2:{list2}\\nThe updated sum is :{s}\"\n",
    "        print(s)\n",
    "\n",
    "\n",
    "\n",
    "list1=[5,6,7,8]\n",
    "list2=[6,8,2,9]\n",
    "print(add_list(list1,list2))"
   ]
  },
  {
   "cell_type": "code",
   "execution_count": 36,
   "metadata": {},
   "outputs": [
    {
     "name": "stdout",
     "output_type": "stream",
     "text": [
      "1.====================================\n",
      "FCBU is a Football team\n",
      "Number of players in FCBU is 2\n",
      "The players are\n"
     ]
    },
    {
     "ename": "TypeError",
     "evalue": "__str__ returned non-string (type NoneType)",
     "output_type": "error",
     "traceback": [
      "\u001b[1;31m---------------------------------------------------------------------------\u001b[0m",
      "\u001b[1;31mTypeError\u001b[0m                                 Traceback (most recent call last)",
      "\u001b[1;32m<ipython-input-36-6b0a4f653a9b>\u001b[0m in \u001b[0;36m<module>\u001b[1;34m\u001b[0m\n\u001b[0;32m     33\u001b[0m \u001b[0mf\u001b[0m\u001b[1;33m.\u001b[0m\u001b[0maddPlayer\u001b[0m\u001b[1;33m(\u001b[0m\u001b[1;33m[\u001b[0m\u001b[1;34m\"Bob\"\u001b[0m\u001b[1;33m,\u001b[0m\u001b[1;34m\"Forward\"\u001b[0m\u001b[1;33m,\u001b[0m\u001b[1;34m\"Economics\"\u001b[0m\u001b[1;33m]\u001b[0m\u001b[1;33m,\u001b[0m\u001b[1;33m[\u001b[0m\u001b[1;34m\"Carol\"\u001b[0m\u001b[1;33m,\u001b[0m\u001b[1;34m\"Midfielder\"\u001b[0m\u001b[1;33m,\u001b[0m\u001b[1;34m\"BBA\"\u001b[0m\u001b[1;33m]\u001b[0m\u001b[1;33m)\u001b[0m\u001b[1;33m\u001b[0m\u001b[1;33m\u001b[0m\u001b[0m\n\u001b[0;32m     34\u001b[0m \u001b[0mprint\u001b[0m\u001b[1;33m(\u001b[0m\u001b[1;34m\"1.====================================\"\u001b[0m\u001b[1;33m)\u001b[0m\u001b[1;33m\u001b[0m\u001b[1;33m\u001b[0m\u001b[0m\n\u001b[1;32m---> 35\u001b[1;33m \u001b[0mprint\u001b[0m\u001b[1;33m(\u001b[0m\u001b[0mf\u001b[0m\u001b[1;33m)\u001b[0m\u001b[1;33m\u001b[0m\u001b[1;33m\u001b[0m\u001b[0m\n\u001b[0m\u001b[0;32m     36\u001b[0m \u001b[0mprint\u001b[0m\u001b[1;33m(\u001b[0m\u001b[1;34m\"2.====================================\"\u001b[0m\u001b[1;33m)\u001b[0m\u001b[1;33m\u001b[0m\u001b[1;33m\u001b[0m\u001b[0m\n\u001b[0;32m     37\u001b[0m \u001b[0mf\u001b[0m\u001b[1;33m.\u001b[0m\u001b[0mformTeam\u001b[0m\u001b[1;33m(\u001b[0m\u001b[1;33m)\u001b[0m\u001b[1;33m\u001b[0m\u001b[1;33m\u001b[0m\u001b[0m\n",
      "\u001b[1;31mTypeError\u001b[0m: __str__ returned non-string (type NoneType)"
     ]
    }
   ],
   "source": [
    "\n",
    "class Team:\n",
    "    playerCount=0\n",
    "    def __init__(self,name,teamType):\n",
    "        self.name = name\n",
    "        self.teamType = teamType\n",
    "    def formTeam(self):\n",
    "        if Team.playerCount >= 5:\n",
    "            return True\n",
    "        else:\n",
    "            return False\n",
    "    def __str__(self):\n",
    "        s = f\"{self.name} is a {self.teamType} team.\\n\"\n",
    "        s+= f\"Number of players in {self.name} is {Team.playerCount}\\n\"\n",
    "        return s\n",
    "class BRACFootballTeam(Team):\n",
    "    def __init__(self,name,teamType):\n",
    "        super().__init__(name,teamType)\n",
    "        self.player=[]\n",
    "    def addPlayer(self,*a):\n",
    "        Team.playerCount=Team.playerCount+len(a)\n",
    "    def __str__(self):\n",
    "        print(self.name,\"is a\",self.teamType,\"team\")\n",
    "        print(\"Number of players in\",self.name,\"is\",Team.playerCount)\n",
    "        print(\"The players are\")\n",
    "        c=len(self.player)\n",
    "        for i in self.player:\n",
    "            if len(self.player)==1 or c==1:\n",
    "                f\"{self.player[i[1]]} :\\nPlayer name: {self.player[i[0]]}, Department:{self.player[i[2]]}\"\n",
    "            else:\n",
    "                print(self.player[i[1]],\":\\nPlayer name:\",self.player[i[0]],\"Department:\",self.player[i[2]])\n",
    "                \n",
    "f = BRACFootballTeam(\"FCBU\",\"Football\")\n",
    "f.addPlayer([\"Bob\",\"Forward\",\"Economics\"],[\"Carol\",\"Midfielder\",\"BBA\"])\n",
    "print(\"1.====================================\")\n",
    "print(f)\n",
    "print(\"2.====================================\")\n",
    "f.formTeam()\n",
    "print(\"3.====================================\")\n",
    "f.addPlayer([\"John\",\"Defender\",\"CSE\"])\n",
    "f.addPlayer([\"Tony\",\"Goalkeeper\",\"CSE\"])\n",
    "print(\"4.====================================\")\n",
    "print(f)\n",
    "print(\"5.====================================\")\n",
    "f.formTeam()\n",
    "print(\"6.====================================\")\n",
    "f.addPlayer([\"Adam\",\"Goalkeeper\",\"Economics\"])\n",
    "f.formTeam()\n",
    "print(\"7.====================================\")\n",
    "f.addPlayer([\"Brad\",\"Defender\",\"EEE\"])\n",
    "print(f)\n",
    "print(\"8.====================================\")\n",
    "f.formTeam()\n",
    "\n"
   ]
  },
  {
   "cell_type": "code",
   "execution_count": null,
   "metadata": {},
   "outputs": [],
   "source": [
    "def __str__(self):\n",
    "        s = f\"{self.name} is a {self.teamType} team.\\n\"\n",
    "        s+= f\"Number of players in {self.name} is {Team.playerCount}\\n\"\n",
    "1.====================================\n",
    "FCBU is a Football team.\n",
    "Number of players in FCBU is 2\n",
    "The players are:\n",
    "Forward:\n",
    "Player name: Bob, Department:Economics\n",
    "Midfielder:\n",
    "Player name: Carol, Department:BBA\n",
    "2.====================================\n",
    "We do not have enough players to form a team.\n",
    "3.====================================\n",
    "4.====================================\n",
    "FCBU is a Football team.\n",
    "Number of players in FCBU is 4\n",
    "The players are:\n",
    "Forward:\n",
    "Player name: Bob, Department:Economics\n",
    "Midfielder:\n",
    "Player name: Carol, Department:BBA\n",
    "Defender:\n",
    "Player name: John, Department:CSE\n",
    "Goalkeeper:\n",
    "Player name: Tony, Department:CSE\n",
    "5.====================================\n",
    "We do not have enough players to form a team.\n",
    "6.====================================\n",
    "We have enough players to form a team.\n",
    "But we cannot form a perfect team.\n",
    "7.====================================\n",
    "FCBU is a Football team.\n",
    "Number of players in FCBU is 6\n",
    "The players are:\n",
    "Forward:\n",
    "Player name: Bob, Department:Economics\n",
    "Midfielder:\n",
    "Player name: Carol, Department:BBA\n",
    "Defender:\n",
    "Player name: John, Department:CSE\n",
    "Player name: Brad, Department:EEE\n",
    "Goalkeeper:\n",
    "Player name: Tony, Department:CSE\n",
    "Player name: Adam, Department:Economics\n",
    "8.====================================\n",
    "We have enough players to form a team.\n",
    "Also we can form a perfect team!!"
   ]
  },
  {
   "cell_type": "code",
   "execution_count": 38,
   "metadata": {},
   "outputs": [
    {
     "ename": "TypeError",
     "evalue": "addTrophy() takes 1 positional argument but 6 were given",
     "output_type": "error",
     "traceback": [
      "\u001b[1;31m---------------------------------------------------------------------------\u001b[0m",
      "\u001b[1;31mTypeError\u001b[0m                                 Traceback (most recent call last)",
      "\u001b[1;32m<ipython-input-38-bb498f98fb56>\u001b[0m in \u001b[0;36m<module>\u001b[1;34m\u001b[0m\n\u001b[0;32m     24\u001b[0m \u001b[1;31m# Do not change the following lines of code.\u001b[0m\u001b[1;33m\u001b[0m\u001b[1;33m\u001b[0m\u001b[1;33m\u001b[0m\u001b[0m\n\u001b[0;32m     25\u001b[0m \u001b[0mc1\u001b[0m \u001b[1;33m=\u001b[0m \u001b[0mMadrid\u001b[0m\u001b[1;33m(\u001b[0m\u001b[1;34m\"Real Madrid\"\u001b[0m\u001b[1;33m,\u001b[0m \u001b[1;34m\"La Liga\"\u001b[0m\u001b[1;33m,\u001b[0m \u001b[1;34m\"Spain\"\u001b[0m\u001b[1;33m)\u001b[0m\u001b[1;33m\u001b[0m\u001b[1;33m\u001b[0m\u001b[0m\n\u001b[1;32m---> 26\u001b[1;33m \u001b[0mc1\u001b[0m\u001b[1;33m.\u001b[0m\u001b[0maddTrophy\u001b[0m\u001b[1;33m(\u001b[0m\u001b[1;34m\"LaLiga 2020\"\u001b[0m\u001b[1;33m,\u001b[0m\u001b[1;34m\"UEFA 2016\"\u001b[0m\u001b[1;33m,\u001b[0m\u001b[1;34m\"UEFA 2017\"\u001b[0m\u001b[1;33m,\u001b[0m\u001b[1;34m\"LaLiga 2019\"\u001b[0m\u001b[1;33m,\u001b[0m\u001b[1;34m\"CopaDelRay 2014\"\u001b[0m\u001b[1;33m)\u001b[0m\u001b[1;33m\u001b[0m\u001b[1;33m\u001b[0m\u001b[0m\n\u001b[0m\u001b[0;32m     27\u001b[0m \u001b[0mprint\u001b[0m\u001b[1;33m(\u001b[0m\u001b[1;34m'===================================='\u001b[0m\u001b[1;33m)\u001b[0m\u001b[1;33m\u001b[0m\u001b[1;33m\u001b[0m\u001b[0m\n\u001b[0;32m     28\u001b[0m \u001b[0mc1\u001b[0m\u001b[1;33m.\u001b[0m\u001b[0mshowClubPoint\u001b[0m\u001b[1;33m(\u001b[0m\u001b[1;33m)\u001b[0m\u001b[1;33m\u001b[0m\u001b[1;33m\u001b[0m\u001b[0m\n",
      "\u001b[1;31mTypeError\u001b[0m: addTrophy() takes 1 positional argument but 6 were given"
     ]
    }
   ],
   "source": [
    "\n",
    "class Club:\n",
    "    def __init__(self, name, league):\n",
    "        self.name = name\n",
    "        self.league = league\n",
    "\n",
    "    def __str__(self):\n",
    "        s = f\"Name: {self.name}\\nLeague: {self.league}\"\n",
    "        return s\n",
    "class Madrid(Club):\n",
    "    def __init__(self,name, league,country):\n",
    "        super().__init__(name, league)\n",
    "        self.country=country\n",
    "        self.trofy=[]\n",
    "        self.point=0\n",
    "    def addTrophy(self,**t):\n",
    "        self.potnt=len(t)*10\n",
    "        self.trofy=self.trofy+t\n",
    "    def showClubPoint(self):\n",
    "        print(self.point)\n",
    "    def __str__(self):\n",
    "        s = f\"Name: {self.name}\\nLeague: {self.league}\"\n",
    "        \n",
    "# Write your codes here.\n",
    "# Do not change the following lines of code.\n",
    "c1 = Madrid(\"Real Madrid\", \"La Liga\", \"Spain\")\n",
    "c1.addTrophy(\"LaLiga 2020\",\"UEFA 2016\",\"UEFA 2017\",\"LaLiga 2019\",\"CopaDelRay 2014\")\n",
    "print('====================================')\n",
    "c1.showClubPoint()\n",
    "print('====================================')\n",
    "print(c1)\n",
    "print('====================================')\n",
    "c2 = Barca(\"Barcelona\", \"La Liga\", \"Spain\")\n",
    "c2.addTrophy(\"LaLiga 2015\",\"UEFA 2015\", \"LaLiga 2016\", \"UEFA 2017\", \"LaLiga 2020\", \"Supercopa 2020\")\n",
    "print('====================================')\n",
    "c2.showClubPoint()\n",
    "print('====================================')\n",
    "print(c2)\n",
    "\n"
   ]
  },
  {
   "cell_type": "code",
   "execution_count": 39,
   "metadata": {},
   "outputs": [
    {
     "ename": "SyntaxError",
     "evalue": "invalid syntax (<ipython-input-39-e720c2b87c11>, line 1)",
     "output_type": "error",
     "traceback": [
      "\u001b[1;36m  File \u001b[1;32m\"<ipython-input-39-e720c2b87c11>\"\u001b[1;36m, line \u001b[1;32m1\u001b[0m\n\u001b[1;33m    OUTPUT:\u001b[0m\n\u001b[1;37m           ^\u001b[0m\n\u001b[1;31mSyntaxError\u001b[0m\u001b[1;31m:\u001b[0m invalid syntax\n"
     ]
    }
   ],
   "source": [
    "OUTPUT:\n",
    "================================\n",
    "Real Madrid has 50 points\n",
    "================================\n",
    "Name: Real Madrid\n",
    "League: La Liga\n",
    "Country: Spain\n",
    "Trophy Cabinet:\n",
    "LaLiga: [2020, 2019]\n",
    "UEFA: [2016, 2017]\n",
    "CopaDelRay: [2014]\n",
    "================================\n",
    "================================\n",
    "Barcelona has 60 points\n",
    "================================\n",
    "Name: Barcelona\n",
    "League: La Liga\n",
    "Country: Spain\n",
    "Trophy Cabinet:\n",
    "LaLiga: [2015, 2016, 2020]\n",
    "UEFA: [2015, 2017]\n",
    "Supercopa: [2020]"
   ]
  },
  {
   "cell_type": "code",
   "execution_count": null,
   "metadata": {},
   "outputs": [],
   "source": []
  }
 ],
 "metadata": {
  "kernelspec": {
   "display_name": "Python 3",
   "language": "python",
   "name": "python3"
  },
  "language_info": {
   "codemirror_mode": {
    "name": "ipython",
    "version": 3
   },
   "file_extension": ".py",
   "mimetype": "text/x-python",
   "name": "python",
   "nbconvert_exporter": "python",
   "pygments_lexer": "ipython3",
   "version": "3.8.5"
  }
 },
 "nbformat": 4,
 "nbformat_minor": 4
}
