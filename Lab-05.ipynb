{
 "cells": [
  {
   "cell_type": "code",
   "execution_count": 5,
   "metadata": {},
   "outputs": [
    {
     "name": "stdout",
     "output_type": "stream",
     "text": [
      "1\n",
      "1\n"
     ]
    }
   ],
   "source": [
    "# TASK-01(Very Easy)\n",
    "# (a)\n",
    "\n",
    "def factorial(n):\n",
    "    if n==0 or n==1:\n",
    "        return(1)\n",
    "    elif n<0:\n",
    "        return(\"Math error\")\n",
    "    else:\n",
    "        return(n*factorial(n-1))\n",
    "\n",
    "\n",
    "n=int(input())\n",
    "ans=factorial(n)\n",
    "print(ans)\n"
   ]
  },
  {
   "cell_type": "code",
   "execution_count": 6,
   "metadata": {},
   "outputs": [
    {
     "name": "stdout",
     "output_type": "stream",
     "text": [
      "3\n",
      "1\n"
     ]
    }
   ],
   "source": [
    "# (b)\n",
    "\n",
    "def Fibonacci(n):\n",
    "    if n<=0:\n",
    "        return(\"wrong input\")\n",
    "    elif n==1:\n",
    "        return(0)\n",
    "    elif n==2:\n",
    "        return(1)\n",
    "    else:\n",
    "        return(Fibonacci(n-2)+Fibonacci(n-1))\n",
    "    \n",
    "n=int(input())\n",
    "ans=Fibonacci(n)\n",
    "print(ans)\n",
    "        \n"
   ]
  },
  {
   "cell_type": "code",
   "execution_count": 4,
   "metadata": {},
   "outputs": [
    {
     "name": "stdout",
     "output_type": "stream",
     "text": [
      "1 index= 0\n",
      "2 index= 1\n",
      "3 index= 2\n",
      "4 index= 3\n",
      "5 index= 4\n",
      "6 index= 5\n"
     ]
    }
   ],
   "source": [
    "# (c) [According to Lab Faculty]\n",
    "\n",
    "def Array(array,index=0):\n",
    "    if index+1==len(array):\n",
    "        print(array[index],\"index=\",index)\n",
    "    else:\n",
    "        print(array[index],\"index=\",index)\n",
    "        index=index+1\n",
    "        Array(array,index)\n",
    "l=[1,2,3,4,5,6]\n",
    "Array(l,0)"
   ]
  },
  {
   "cell_type": "code",
   "execution_count": 1,
   "metadata": {},
   "outputs": [
    {
     "name": "stdout",
     "output_type": "stream",
     "text": [
      "base: 3\n",
      "power: 2\n",
      "answer: 9\n"
     ]
    }
   ],
   "source": [
    "# (d)\n",
    "\n",
    "def powerN(base,n):\n",
    "    if n==0:\n",
    "        return(1)\n",
    "    else:\n",
    "        return(base*powerN(base,n-1))\n",
    "\n",
    "\n",
    "base=int(input(\"base: \"))\n",
    "n=int(input(\"power: \"))\n",
    "ans=powerN(base,n)\n",
    "print(\"answer:\",ans)\n",
    "        \n"
   ]
  },
  {
   "cell_type": "code",
   "execution_count": 1,
   "metadata": {},
   "outputs": [
    {
     "name": "stdout",
     "output_type": "stream",
     "text": [
      "decimal number: 4\n",
      "binary number: 100\n"
     ]
    }
   ],
   "source": [
    "# TASK-02 [Easy] \n",
    "# (a)\n",
    "\n",
    "def Decimal_to_binary(dec): #2\n",
    "    if dec==1:\n",
    "        return(str(1))\n",
    "    elif dec==0:\n",
    "        return(str(dec))\n",
    "    else:\n",
    "        return (Decimal_to_binary(dec//2)) +str(dec%2)   #   1001\n",
    "\n",
    "    \n",
    "dec=int(input(\"decimal number: \"))\n",
    "ans=Decimal_to_binary(dec)\n",
    "print(\"binary number:\",ans)"
   ]
  },
  {
   "cell_type": "code",
   "execution_count": 3,
   "metadata": {},
   "outputs": [
    {
     "name": "stdout",
     "output_type": "stream",
     "text": [
      "\n",
      "40\n",
      "30\n",
      "20\n",
      "10\n"
     ]
    }
   ],
   "source": [
    "# TASK-02 [easy]\n",
    "class Node:\n",
    "    def __init__(self,element,nextAdress):\n",
    "        self.element=element\n",
    "        self.nextAdress=nextAdress\n",
    "        \n",
    "class MyList:    \n",
    "    def __init__(self,a):  \n",
    "        self.head=None\n",
    "        tail=None\n",
    "        for i in a:\n",
    "            node=Node(i,None)\n",
    "            if self.head==None:\n",
    "                self.head=node\n",
    "                tail=node\n",
    "            else:\n",
    "                tail.nextAdress=node\n",
    "                tail=node                \n",
    "    def head_return(self):\n",
    "        return(self.head)\n",
    "\n",
    "def reverse_of_link_list(head):    \n",
    "    if head==None:\n",
    "        return \"\"    \n",
    "    else:\n",
    "        return(reverse_of_link_list(head.nextAdress)+\" \"+str(head.element))  \n",
    "l=[10,20,30,40]\n",
    "obj2=MyList(l)\n",
    "head2=obj2.head_return()\n",
    "ans1=reverse_of_link_list(head2)\n",
    "ans1=ans1.split(\" \")\n",
    "for x in ans1:\n",
    "    print(x)\n"
   ]
  },
  {
   "cell_type": "code",
   "execution_count": 1,
   "metadata": {},
   "outputs": [
    {
     "name": "stdout",
     "output_type": "stream",
     "text": [
      "28\n",
      " 7 6 5 4 3 2 1\n"
     ]
    }
   ],
   "source": [
    "# (b)\n",
    "\n",
    "class Node:\n",
    "    def __init__(self,element,nextAdress):\n",
    "        self.element=element\n",
    "        self.nextAdress=nextAdress\n",
    "        \n",
    "class MyList:       \n",
    "    \n",
    "    def __init__(self,a):  \n",
    "        self.head=None\n",
    "        tail=None\n",
    "        for i in a:\n",
    "            node=Node(i,None)\n",
    "            if self.head==None:\n",
    "                self.head=node\n",
    "                tail=node\n",
    "            else:\n",
    "                tail.nextAdress=node\n",
    "                tail=node\n",
    "                \n",
    "    def head_return(self):\n",
    "        return(self.head)\n",
    "#............................................................#    \n",
    "def Addition_of_link_list(head):\n",
    "    \n",
    "    if head==None:\n",
    "        return(0)\n",
    "    else:\n",
    "        return(head.element+Addition_of_link_list(head.nextAdress))\n",
    "        \n",
    "\n",
    "l=[1,2,3,4,5,6,7]\n",
    "obj=MyList(l)\n",
    "head=obj.head_return()\n",
    "ans=Addition_of_link_list(head)\n",
    "print(ans)\n",
    "#.................................................................#\n",
    " \n",
    "    #(c)\n",
    "\n",
    "def reverse_of_link_list(head):\n",
    "    \n",
    "    if head==None:\n",
    "        return \"\"\n",
    "    \n",
    "    else:\n",
    "        return(reverse_of_link_list(head.nextAdress)+\" \"+str(head.element))  #     \"\"+7+6+5+4+ 3+ 2 +1\n",
    "\n",
    "l=[1,2,3,4,5,6,7]\n",
    "obj2=MyList(l)\n",
    "head2=obj2.head_return()\n",
    "ans1=reverse_of_link_list(head2)\n",
    "print(ans1)\n",
    "        "
   ]
  },
  {
   "cell_type": "code",
   "execution_count": 13,
   "metadata": {},
   "outputs": [
    {
     "name": "stdout",
     "output_type": "stream",
     "text": [
      "4\n",
      "23\n"
     ]
    }
   ],
   "source": [
    "# TASK-03 [Medium]\n",
    "\n",
    "def hocBuilder(height):\n",
    "    if height==0:\n",
    "        return(\"Can not biuld House. So, 0 cards needed\")\n",
    "    elif height<0:\n",
    "        return(\"Height must be posetive\")\n",
    "    elif height==1:\n",
    "        return(8)\n",
    "    else:\n",
    "        return(5+hocBuilder(height-1))\n",
    "    \n",
    "    \n",
    "height=int(input())\n",
    "ans=hocBuilder(height)\n",
    "print(ans)"
   ]
  },
  {
   "cell_type": "code",
   "execution_count": 3,
   "metadata": {},
   "outputs": [
    {
     "name": "stdout",
     "output_type": "stream",
     "text": [
      "6\n",
      "123456\n",
      "12345\n",
      "1234\n",
      "123\n",
      "12\n",
      "1\n"
     ]
    }
   ],
   "source": [
    "def pattern(row,col):\n",
    "    if row==0:\n",
    "        return\n",
    "    if col==row+1:\n",
    "        print()\n",
    "        pattern(row-1,1)\n",
    "    else:\n",
    "        print(col,end=\"\")\n",
    "        pattern(row,col+1)\n",
    "n=int(input())\n",
    "pattern(n,1)"
   ]
  },
  {
   "cell_type": "code",
   "execution_count": 1,
   "metadata": {},
   "outputs": [
    {
     "name": "stdout",
     "output_type": "stream",
     "text": [
      "4\n",
      "1\n",
      "12\n",
      "123\n",
      "1234\n"
     ]
    }
   ],
   "source": [
    "#asif\n",
    "def colum(c,i=0): #c=2 , i=2\n",
    "    if c==i:\n",
    "        print()\n",
    "        return\n",
    "    else:\n",
    "        print(i+1,end='')\n",
    "        (colum(c,i+1))\n",
    "        \n",
    "def row(r,i=1): # r=3, i=2\n",
    "    if r==0:\n",
    "        return\n",
    "    else:\n",
    "        colum(i)\n",
    "        return(row((r-1),i+1))\n",
    "n=int(input())\n",
    "#colum(n)\n",
    "row(n)"
   ]
  },
  {
   "cell_type": "code",
   "execution_count": 7,
   "metadata": {},
   "outputs": [
    {
     "name": "stdout",
     "output_type": "stream",
     "text": [
      "6\n",
      "     1\n",
      "    12\n",
      "   123\n",
      "  1234\n",
      " 12345\n",
      "123456\n"
     ]
    }
   ],
   "source": [
    "#asif\n",
    "def colum(c,i=0):\n",
    "    if c==i:\n",
    "        print()\n",
    "        return\n",
    "    else:\n",
    "        print(i+1,end='')\n",
    "        (colum(c,i+1))\n",
    "        \n",
    "def spece(s):\n",
    "    if s==0:\n",
    "        #print()\n",
    "        return \n",
    "    \n",
    "    else:\n",
    "        print(\" \",end='')\n",
    "        spece(s-1)\n",
    "        \n",
    "def row(r,i=1):\n",
    "    if r<i:\n",
    "        return\n",
    "    else:\n",
    "        (spece(r-i))\n",
    "        colum(i)\n",
    "        return(row((r),i+1))\n",
    "n=int(input())\n",
    "#colum(n)\n",
    "#spece(n)\n",
    "row(n)"
   ]
  },
  {
   "cell_type": "code",
   "execution_count": 8,
   "metadata": {},
   "outputs": [
    {
     "name": "stdout",
     "output_type": "stream",
     "text": [
      "1. Investment: 25000; Profit: 0.0\n",
      "2. Investment: 100000; Profit: 3375.0\n",
      "3. Investment: 250000; Profit: 15375.0\n",
      "4. Investment: 350000; Profit: 23375.0\n"
     ]
    }
   ],
   "source": [
    "#Very Hard\n",
    "\n",
    "class FinalQ:\n",
    "    def Print(self,array,idx): \n",
    "        if(idx<len(array)): \n",
    "            profit = self.calcProfit(array[idx]) \n",
    "            \n",
    "            #TO DO \n",
    "            print(str(idx+1)+\". Investment: \"+str(array[idx])+\"; Profit:\",profit)\n",
    "            self.Print(array,idx+1)\n",
    "  \n",
    "    def calcProfit(self,investment): \n",
    "        if investment<=25000:\n",
    "            return(0.0)\n",
    "        elif investment<=100000:\n",
    "            investment=(investment-25000)/100\n",
    "            return(4.5+self.add(investment,4.5))\n",
    "        else:\n",
    "            investment1=(investment-100000)/100\n",
    "            investment2=(investment-25000-(investment-100000))/100\n",
    "            ans1=(8+self.add(investment1,8))\n",
    "            ans2=(4.5+self.add(investment2,4.5))\n",
    "            return(ans1+ans2)\n",
    "    \n",
    "    def add(self,i,b):\n",
    "        if i==1:\n",
    "            return(0.0)\n",
    "        else:\n",
    "            return(b+self.add(i-1,b))\n",
    "            \n",
    "        \n",
    " #TO DO \n",
    "  \n",
    "#Tester \n",
    "array=[25000,100000,250000,350000] \n",
    "f = FinalQ() \n",
    "f.Print(array,0)\n",
    "\n"
   ]
  },
  {
   "cell_type": "code",
   "execution_count": null,
   "metadata": {},
   "outputs": [],
   "source": []
  }
 ],
 "metadata": {
  "kernelspec": {
   "display_name": "Python 3 (ipykernel)",
   "language": "python",
   "name": "python3"
  },
  "language_info": {
   "codemirror_mode": {
    "name": "ipython",
    "version": 3
   },
   "file_extension": ".py",
   "mimetype": "text/x-python",
   "name": "python",
   "nbconvert_exporter": "python",
   "pygments_lexer": "ipython3",
   "version": "3.10.9"
  }
 },
 "nbformat": 4,
 "nbformat_minor": 4
}
