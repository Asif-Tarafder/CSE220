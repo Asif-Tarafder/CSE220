{
 "cells": [
  {
   "cell_type": "code",
   "execution_count": 170,
   "metadata": {},
   "outputs": [
    {
     "name": "stdout",
     "output_type": "stream",
     "text": [
      "[40, 50, 60, 0, 0, 0]\n"
     ]
    }
   ],
   "source": [
    "#Task -01\n",
    "def shiftLeft(source,k):\n",
    "    s=source\n",
    "    i=0\n",
    "    while i+k<len(s):\n",
    "        s[i]=s[i+k]\n",
    "        i=i+1\n",
    "    for i in range(len(s)-k,len(s)):\n",
    "        s[i]=0\n",
    "    print(s)\n",
    "source=[10,20,30,40,50,60]\n",
    "shiftLeft(source,3)"
   ]
  },
  {
   "cell_type": "code",
   "execution_count": 4,
   "metadata": {},
   "outputs": [
    {
     "name": "stdout",
     "output_type": "stream",
     "text": [
      "['SAD', 'TAW', 'ISH', 'RYB', 'ROY', 'MAT', 'NZN']\n",
      "After one eliminated, remain participant = ['SAD', 'TAW', 'ISH', 0, 'ROY', 'MAT', 'NZN']\n",
      "['ROY', 'MAT', 'NZN', 'SAD', 'TAW', 'ISH']\n",
      "['ISH', 'ROY', 'MAT', 'NZN', 'SAD', 'TAW']\n",
      "After one eliminated, remain participant = ['ISH', 'ROY', 'MAT', 0, 'SAD', 'TAW']\n",
      "['SAD', 'TAW', 'ISH', 'ROY', 'MAT']\n",
      "['MAT', 'SAD', 'TAW', 'ISH', 'ROY']\n",
      "After one eliminated, remain participant = ['MAT', 'SAD', 0, 'ISH', 'ROY']\n",
      "['ISH', 'ROY', 'MAT', 'SAD']\n",
      "['SAD', 'ISH', 'ROY', 'MAT']\n",
      "After one eliminated, remain participant = ['SAD', 'ISH', 0, 'MAT']\n",
      "['MAT', 'SAD', 'ISH']\n",
      "['ISH', 'MAT', 'SAD']\n",
      "['SAD', 'ISH', 'MAT']\n",
      "['MAT', 'SAD', 'ISH']\n",
      "After one eliminated, remain participant = ['MAT', 0, 'ISH']\n",
      "['ISH', 'MAT']\n",
      "['MAT', 'ISH']\n",
      "['ISH', 'MAT']\n",
      "['MAT', 'ISH']\n",
      "['ISH', 'MAT']\n",
      "['MAT', 'ISH']\n",
      "['ISH', 'MAT']\n",
      "['MAT', 'ISH']\n",
      "['ISH', 'MAT']\n",
      "['MAT', 'ISH']\n",
      "['ISH', 'MAT']\n",
      "['MAT', 'ISH']\n",
      "['ISH', 'MAT']\n",
      "['MAT', 'ISH']\n",
      "['ISH', 'MAT']\n",
      "['MAT', 'ISH']\n",
      "['ISH', 'MAT']\n",
      "['MAT', 'ISH']\n",
      "['ISH', 'MAT']\n",
      "After one eliminated, remain participant = ['ISH', 0]\n",
      "Winner : ISH\n"
     ]
    }
   ],
   "source": [
    "import random\n",
    "def  musical_chair_game(l1,start,size):\n",
    "    s=start\n",
    "    #s=(start+size-1)%len(l1)\n",
    "    size=size\n",
    "    while size>1:\n",
    "        l=[0]*size\n",
    "        i=0\n",
    "        while i<len(l):\n",
    "            l[i]=l1[s]\n",
    "            i+=1\n",
    "            s=(s+1)%len(l1)\n",
    "        n=random.randint(0,3)\n",
    "        print(l)  # to check they moving clock wise\n",
    "        if n==1:\n",
    "            l[size//2]=0\n",
    "            s=(size//2)+1\n",
    "            size-=1\n",
    "            print(\"After one eliminated, remain participant =\",l)\n",
    "        else:\n",
    "            s=(size-1)%len(l)\n",
    "            #s=1\n",
    "        l1=l\n",
    "    return l1[0]  \n",
    "l=[\"NZN\",\"SAD\",\"TAW\",\"ISH\",\"RYB\",\"ROY\",\"MAT\"]\n",
    "print(\"Winner :\",musical_chair_game(l,1,7))"
   ]
  },
  {
   "cell_type": "code",
   "execution_count": 2,
   "metadata": {},
   "outputs": [
    {
     "name": "stdout",
     "output_type": "stream",
     "text": [
      "[40, 50, 60, 10, 20, 30]\n"
     ]
    }
   ],
   "source": [
    "#Task -02\n",
    "def  rotateLeft(source,k):\n",
    "    s=source\n",
    "    store=[0]*k\n",
    "    i=0\n",
    "    while (i<k and k<len(s)):\n",
    "        store[i]=s[i]\n",
    "        i=i+1\n",
    "    i=0\n",
    "    while i+k<len(s):\n",
    "        s[i]=s[i+k]\n",
    "        i=i+1\n",
    "    j=len(s)-1\n",
    "    for i in range(len(store)-1,-1,-1):\n",
    "        s[j]=store[i]\n",
    "        j=j-1\n",
    "source=[10,20,30,40,50,60]\n",
    "rotateLeft(source,3)\n",
    "print(source)"
   ]
  },
  {
   "cell_type": "code",
   "execution_count": 3,
   "metadata": {},
   "outputs": [
    {
     "name": "stdout",
     "output_type": "stream",
     "text": [
      "[40, 50, 60, 10, 20, 30]\n"
     ]
    }
   ],
   "source": [
    "#Task -02 3333333333333333333333333333\n",
    "def shiftLeft(s,k):\n",
    "    store=[0]*k\n",
    "    i=0\n",
    "    while (i<k and k<len(s)):\n",
    "        store[i]=s[i]\n",
    "        i=i+1\n",
    "    i=0\n",
    "    while i+k<len(s):\n",
    "        s[i]=s[i+k]\n",
    "        i=i+1\n",
    "    j=len(s)-1\n",
    "    i=len(store)-1\n",
    "    while i>-1:\n",
    "        s[j]=store[i]\n",
    "        j=j-1\n",
    "        i=i-1\n",
    "source=[10,20,30,40,50,60]\n",
    "shiftLeft(source,3)\n",
    "print(source)\n"
   ]
  },
  {
   "cell_type": "code",
   "execution_count": 27,
   "metadata": {},
   "outputs": [
    {
     "name": "stdout",
     "output_type": "stream",
     "text": [
      "[40, 50, 60, 10, 20, 30]\n"
     ]
    }
   ],
   "source": [
    "#1 left Rotate tahsin\n",
    "\n",
    "def rotateLeft( source, k) :\n",
    "    temp_array=[10,20,30]\n",
    "    for i in range (0,k):\n",
    "        source[i]=source[i+k]\n",
    "        \n",
    "        \n",
    "    i=k\n",
    "    j=0\n",
    "    while (i<len(source)):\n",
    "        source[i]=temp_array[j]\n",
    "        i=i+1\n",
    "        j=j+1\n",
    "    \n",
    "source=[10,20,30,40,50,60]\n",
    "rotateLeft(source,3)\n",
    "print (source)"
   ]
  },
  {
   "cell_type": "code",
   "execution_count": 211,
   "metadata": {},
   "outputs": [
    {
     "name": "stdout",
     "output_type": "stream",
     "text": [
      "[10, 20, 40, 50, 0, 0, 0]\n"
     ]
    }
   ],
   "source": [
    "#Task -03\n",
    "def remove( source, size, idx):\n",
    "    i=idx\n",
    "    while (i<len(source)-1):\n",
    "        source[i]=source[i+1]\n",
    "        i=i+1\n",
    "    source[-1]=0\n",
    "    print(source)\n",
    "source=[10,20,30,40,50,0,0]\n",
    "remove(source,5,2)\n"
   ]
  },
  {
   "cell_type": "code",
   "execution_count": 228,
   "metadata": {},
   "outputs": [
    {
     "name": "stdout",
     "output_type": "stream",
     "text": [
      "[10, 30, 50, 0, 0, 0, 0, 0, 0]\n"
     ]
    }
   ],
   "source": [
    "#Task -04 altanative good\n",
    "def removeAll( source, size, element):\n",
    "    e=element\n",
    "    s=source\n",
    "    c=0\n",
    "    i=0\n",
    "    while (i<len(s)):\n",
    "        if s[-1]==e:\n",
    "            s[-1]=0\n",
    "        if s[i]==e:\n",
    "            c=c+1\n",
    "            loop=i\n",
    "            while (loop<len(s)-1):\n",
    "                s[loop]=s[loop+1]\n",
    "                loop=loop+1\n",
    "            i=i-1\n",
    "        i=i+1\n",
    "    \n",
    "    for i in range(c):\n",
    "        s[-(i+1)]=0\n",
    "    print(s)\n",
    "source=[10,2,30,2,50,2,2,0,0]\n",
    "removeAll(source,7,2)\n"
   ]
  },
  {
   "cell_type": "code",
   "execution_count": 252,
   "metadata": {},
   "outputs": [
    {
     "name": "stdout",
     "output_type": "stream",
     "text": [
      "true\n"
     ]
    }
   ],
   "source": []
  },
  {
   "cell_type": "code",
   "execution_count": 31,
   "metadata": {},
   "outputs": [
    {
     "name": "stdout",
     "output_type": "stream",
     "text": [
      "[2,1,1,2,1]\n",
      "false\n"
     ]
    }
   ],
   "source": [
    "l=input()\n",
    "l=l[1:-1].split(\",\")\n",
    "s_L=0\n",
    "b=0\n",
    "for i in range(len(l)-1):\n",
    "    s_L=s_L+int(l[i])\n",
    "    j=i+1\n",
    "    s_R=0\n",
    "    for j in range(i+1,len(l)):\n",
    "        s_R=s_R+int(l[j])\n",
    "        \n",
    "    if s_L==s_R:\n",
    "        print(\"true\")\n",
    "        b=1\n",
    "        break\n",
    "if b==0:\n",
    "    print(\"false\")"
   ]
  },
  {
   "cell_type": "code",
   "execution_count": 20,
   "metadata": {},
   "outputs": [
    {
     "name": "stdout",
     "output_type": "stream",
     "text": [
      "4\n",
      "n=4 : {0,0,0,1,   0,0,2,1,   0,3,2,1,   4,3,2,1}\n"
     ]
    }
   ],
   "source": [
    "#Task- 06#####################################3\n",
    "n=int(input())\n",
    "l=([0]*n*n)+([0]*(n-1))\n",
    "\n",
    "r=1\n",
    "c=n-1\n",
    "z=n-1  # 0 bosanor jonno\n",
    "j=1    # number bosanor jonno\n",
    "for i in range(len(l)):\n",
    "    if z!=0:\n",
    "        l[i]=0\n",
    "        z=z-1\n",
    "    elif (i+1)%(n+1)==0:\n",
    "        l[i]=' '\n",
    "        r=r+1\n",
    "        j=r\n",
    "        c=c-1\n",
    "        z=c\n",
    "    elif j!=0:\n",
    "        l[i]=j\n",
    "        j=j-1\n",
    "\n",
    "print(\"n=\"+str(n),\": {\",end=\"\")\n",
    "for i in range(len(l)):\n",
    "    if i+1==len(l):\n",
    "        print(l[i],end=\"\")\n",
    "    elif i==0:\n",
    "        print(l[i],end=\",\")\n",
    "    elif (i+1)%(n+1)==0:\n",
    "        print(\" \",end=\"  \")\n",
    "    else:\n",
    "        print(l[i],end=\",\")\n",
    "print(\"}\")\n",
    "    "
   ]
  },
  {
   "cell_type": "code",
   "execution_count": 5,
   "metadata": {},
   "outputs": [
    {
     "name": "stdout",
     "output_type": "stream",
     "text": [
      "4\n",
      "n=4 : { 0,0,0,1,  0,0,2,1,  0,3,2,1,  4,3,2,1}"
     ]
    }
   ],
   "source": [
    "#Task- 06 Altanative good\n",
    "def series(n):\n",
    "    lst=[0]*n*n\n",
    "    r=1   \n",
    "    c=n-1 \n",
    "    z=n-1 \n",
    "    j=1   \n",
    "    for i in range(len(lst)):\n",
    "        if (i)%(n)==0 and i!=0:\n",
    "            r=r+1\n",
    "            j=r\n",
    "            c=c-1\n",
    "            z=c\n",
    "        if z>0:\n",
    "            lst[i]=0\n",
    "            z=z-1\n",
    "        \n",
    "        elif j>0:\n",
    "            lst[i]=j\n",
    "            j=j-1\n",
    "    for i in range(0,len(lst)): \n",
    "        if i+1==len(lst):\n",
    "            print(lst[i],end=\"}\")\n",
    "        elif i==0:\n",
    "            print(\"n=\"+str(n),\": {\",lst[i],end=\",\")\n",
    "        elif (i+1)%n==0:\n",
    "            print(lst[i],end=\",  \")\n",
    "        else:\n",
    "            print(lst[i],end=\",\")\n",
    "    \n",
    "    return(lst) \n",
    "\n",
    "number=int(input())\n",
    "array=series(number)\n",
    "    "
   ]
  },
  {
   "cell_type": "code",
   "execution_count": 234,
   "metadata": {},
   "outputs": [
    {
     "name": "stdout",
     "output_type": "stream",
     "text": [
      "4\n",
      "n=4 : { 0,0,0,1,  0,0,2,1,  0,3,2,1,  4,3,2,1}"
     ]
    }
   ],
   "source": []
  },
  {
   "cell_type": "code",
   "execution_count": 40,
   "metadata": {},
   "outputs": [
    {
     "name": "stdout",
     "output_type": "stream",
     "text": [
      "6\n",
      "n= 6 : { 0,0,0,0,0,1,  0,0,0,0,2,1,  0,0,0,3,2,1,  0,0,4,3,2,1,  0,5,4,3,2,1,  6,5,4,3,2,1 }\n"
     ]
    }
   ],
   "source": [
    "def tahmid_Guru(n): \n",
    "    l=[0]*n*n         \n",
    "    for i in range(n,-1,-1):\n",
    "        m=1\n",
    "        for j in range(1,i+1):\n",
    "            if i==1:\n",
    "                l[(n*i)-j]=1\n",
    "            else:\n",
    "                l[(n*i)-j]=m\n",
    "                m=m+1  \n",
    "    return(l)\n",
    "n=int(input())\n",
    "tahmid=tahmid_Guru(n)\n",
    "count=1\n",
    "s=\"\"\n",
    "for i in tahmid:\n",
    "    if count%n==0:\n",
    "        s=s+str(i)+\",  \"\n",
    "    else:\n",
    "        s=s+str(i)+\",\"\n",
    "    count=count+1\n",
    "print(\"n=\",n, \": { \"+s[0:len(s)-3]+\" }\")"
   ]
  },
  {
   "cell_type": "code",
   "execution_count": 233,
   "metadata": {},
   "outputs": [
    {
     "name": "stdout",
     "output_type": "stream",
     "text": [
      "6\n",
      "n= 6 : { 0,0,0,0,0,1,  0,0,0,0,2,1,  0,0,0,3,2,1,  0,0,4,3,2,1,  0,5,4,3,2,1,  6,5,4,3,2,1}"
     ]
    }
   ],
   "source": [
    "#shawon\n",
    "\n",
    "def arraySeries(n):\n",
    "    a=[0]*n*n\n",
    "    index=0\n",
    "    i=1\n",
    "    while(i<=n):\n",
    "        k=i\n",
    "        j=n\n",
    "        while(j>0):\n",
    "            if(j>i):\n",
    "                a[index]=0\n",
    "                index = index + 1\n",
    "            else:\n",
    "                a[index]=k\n",
    "                k=k-1\n",
    "                index=index+1\n",
    "            j=j-1\n",
    "        i=i+1\n",
    "    i=0\n",
    "    while(i<len(a)):\n",
    "        if(i==0):\n",
    "            print(\"n=\",n, \": {\", a[i],end=\",\")\n",
    "        elif(len(a)-1==i):\n",
    "            print(a[i],end= \"}\")\n",
    "        elif((i+1)%n==0):\n",
    "            print(a[i],end= \",  \")\n",
    "        else:\n",
    "            print(a[i],end=\",\")\n",
    "        i=i+1\n",
    "    return a\n",
    "n=int(input())\n",
    "b=arraySeries(n)"
   ]
  },
  {
   "cell_type": "code",
   "execution_count": 242,
   "metadata": {},
   "outputs": [
    {
     "name": "stdout",
     "output_type": "stream",
     "text": [
      "4\n"
     ]
    }
   ],
   "source": []
  },
  {
   "cell_type": "code",
   "execution_count": 6,
   "metadata": {},
   "outputs": [
    {
     "name": "stdout",
     "output_type": "stream",
     "text": [
      "{3,4,6,3,4,7,4,6,8,6,6}\n",
      "false\n",
      "{'3': 2, '4': 3, '6': 4, '7': 1, '8': 1}\n"
     ]
    }
   ],
   "source": [
    "#Task-07  #################################  \n",
    "l=input()\n",
    "l=l[1:-1].split(\",\")\n",
    "d={}\n",
    "c=0\n",
    "i=0\n",
    "boolien=0\n",
    "while i<len(l):\n",
    "    c=0\n",
    "    if l[i] not in d:\n",
    "        for j in range(0,len(l)):\n",
    "            if int(l[i])==int(l[j]):\n",
    "                c=c+1\n",
    "       # print(c,\"=c\")\n",
    "        if (c in d.values()) and c!=1:\n",
    "            print(\"true\")\n",
    "            d[l[i]]=c\n",
    "            boolien=1\n",
    "            break\n",
    "        else:\n",
    "            d[l[i]]=c\n",
    "    if boolien==1:\n",
    "        break\n",
    "    i=i+1\n",
    "if boolien==0:\n",
    "    print(\"false\")\n",
    "    i=i+1\n",
    "#print(d)\n",
    "#[1,1,2,2,1,1,1,1] {4,5,6,6,4,3,6,4}{3,4,6,3,4,7,4,6,8,6,6}Output:4"
   ]
  },
  {
   "cell_type": "code",
   "execution_count": 37,
   "metadata": {},
   "outputs": [
    {
     "name": "stdout",
     "output_type": "stream",
     "text": [
      "{3,4,6,3,4,7,4,6,8,6,6}\n",
      "false\n"
     ]
    }
   ],
   "source": [
    "#Task-07  #################################  \n",
    "lst=input().split(\",\")\n",
    "a=lst[0]\n",
    "b=lst[-1]\n",
    "lst[0]=a[1:]\n",
    "lst[-1]=b[0:1]\n",
    "#print(lst)\n",
    "\n",
    "c=0\n",
    "count=0\n",
    "f=False\n",
    "dic={}\n",
    "while i<len(lst):\n",
    "    count=0\n",
    "    if lst[c] not in dic:\n",
    "        for k in range(0,len(lst)):\n",
    "            if int(lst[c])==int(lst[k]):\n",
    "                count+=1\n",
    "       \n",
    "        if (count in dic.values()) and count!=1:\n",
    "            f=True\n",
    "            d[lst[c]]=count\n",
    "            print(\"true\")\n",
    "            \n",
    "            break\n",
    "            \n",
    "        else:\n",
    "            dic[lst[c]]=count\n",
    "            \n",
    "    if f is True:\n",
    "        break\n",
    "    c+=1\n",
    "    \n",
    "if f is not True:\n",
    "    print(\"false\")\n",
    "#print(d)\n",
    "#[1,1,2,2,1,1,1,1] {4,5,6,6,4,3,6,4}{3,4,6,3,4,7,4,6,8,6,6}Output:4"
   ]
  },
  {
   "cell_type": "code",
   "execution_count": 246,
   "metadata": {},
   "outputs": [
    {
     "name": "stdout",
     "output_type": "stream",
     "text": [
      "4\n"
     ]
    }
   ],
   "source": [
    "#Task-07    altanative\n",
    "def max_num_count(lst):\n",
    "    i=0\n",
    "    mx=0\n",
    "    while i<len(lst):\n",
    "        c=0\n",
    "        j=i\n",
    "        while j<len(lst):\n",
    "            if lst[i]==lst[j]:\n",
    "                c=c+1\n",
    "            else:\n",
    "                if mx<=c:\n",
    "                    mx=c\n",
    "                    i=j-1\n",
    "                    break\n",
    "            \n",
    "            if j==len(lst)-1:\n",
    "                if mx<c:\n",
    "                    mx=c\n",
    "                    i=j-1\n",
    "            j=j+1\n",
    "        i=i+1   \n",
    "    print(mx)\n",
    "#lst=[1, 2, 2, 3, 4, 4, 4]\n",
    "lst=[1,1,2, 2, 1, 1,1,1]\n",
    "max_num_count(lst)\n",
    "\n"
   ]
  },
  {
   "cell_type": "code",
   "execution_count": 247,
   "metadata": {},
   "outputs": [
    {
     "name": "stdout",
     "output_type": "stream",
     "text": [
      "False\n"
     ]
    }
   ],
   "source": [
    "#task-08\n",
    "def palindrome_checker(cir_list,start,size):\n",
    "    l=[0]*len(cir_list)\n",
    "    index=start\n",
    "    \n",
    "    for i in range(size):    # circular array from start\n",
    "        l[i]=cir_list[index]\n",
    "        index=(index+1)%len(cir_list)\n",
    "        \n",
    "    # circular array from end\n",
    "    index=(size+start-1)%len(cir_list)\n",
    "    b=1\n",
    "    for i in range(size):\n",
    "        if cir_list[index]==l[i]:\n",
    "            b=1\n",
    "        else:\n",
    "            b=0\n",
    "            break\n",
    "        \n",
    "        index=index-1\n",
    "        if index<0:\n",
    "            index=len(cir_list)-1\n",
    "            \n",
    "    if b==0:\n",
    "        return(\"False\")\n",
    "    else:\n",
    "        return(\"True\")\n",
    "    \n",
    "l=[10,10,0,0,0,10,20,30]\n",
    "print(palindrome_checker(l,5,5))      "
   ]
  },
  {
   "cell_type": "code",
   "execution_count": 4,
   "metadata": {},
   "outputs": [
    {
     "name": "stdout",
     "output_type": "stream",
     "text": [
      "[10, 20, 40]\n"
     ]
    }
   ],
   "source": [
    "#task-9\n",
    "def common_function(cirr1,cirr2,start1,start2,size1,size2):\n",
    "    new_list=[0]*size1\n",
    "    index1=start1   \n",
    "    i=0\n",
    "    n_i=0\n",
    "    while i<size1:\n",
    "        j=0\n",
    "        index2=start2\n",
    "        while j<size2:\n",
    "            if cirr2[index2]==cirr1[index1]:\n",
    "                new_list[n_i]=cirr1[index1]\n",
    "                n_i+=1\n",
    "            index2=(index2+1)%len(cirr2)\n",
    "            j+=1\n",
    "        i+=1\n",
    "        index1=(index1+1)%len(cirr1)\n",
    "    common_list=[0]*n_i\n",
    "    for i in range(n_i):\n",
    "        common_list[i]=new_list[i]\n",
    "    return(common_list)\n",
    "cirr1=[40,50,0,0,0,10,20,30] \n",
    "cirr2=[10,20,5,0,0,0,0,0,5,40,15,25] \n",
    "start1=5\n",
    "start2=8\n",
    "size1 =5\n",
    "size2 =7 \n",
    "print(common_function(cirr1,cirr2,start1,start2,size1,size2))"
   ]
  },
  {
   "cell_type": "code",
   "execution_count": 253,
   "metadata": {},
   "outputs": [
    {
     "name": "stdout",
     "output_type": "stream",
     "text": [
      "['d', 'e', 'f', 'g', 'a', 'b', 'c']\n",
      "['e', 'f', 'g', 'a', 'b', 'c', 'd']\n",
      "['f', 'g', 'a', 'c', 'd', 'e']\n",
      "['c', 'd', 'e', 'f', 'g', 'a']\n",
      "['f', 'g', 'a', 'c', 'd', 'e']\n",
      "['c', 'd', 'e', 'f', 'g', 'a']\n",
      "['f', 'g', 'a', 'c', 'd', 'e']\n",
      "['c', 'd', 'e', 'f', 'g', 'a']\n",
      "['f', 'g', 'a', 'c', 'd', 'e']\n",
      "['c', 'd', 'e', 'f', 'g', 'a']\n",
      "['f', 'g', 'a', 'c', 'd', 'e']\n",
      "['c', 'd', 'e', 'f', 'g', 'a']\n",
      "['f', 'g', 'a', 'c', 'd', 'e']\n",
      "['c', 'd', 'e', 'g', 'a']\n",
      "['g', 'a', 'c', 'd', 'e']\n",
      "['d', 'e', 'g', 'a', 'c']\n",
      "['a', 'c', 'd', 'e', 'g']\n",
      "['e', 'g', 'a', 'c', 'd']\n",
      "['c', 'd', 'e', 'g', 'a']\n",
      "['g', 'a', 'c', 'd', 'e']\n",
      "['d', 'e', 'a', 'c']\n",
      "['a', 'c', 'd', 'e']\n",
      "['d', 'e', 'a', 'c']\n",
      "['a', 'c', 'e']\n",
      "['e', 'c']\n",
      "['c', 'e']\n",
      "Winner:  ['e']\n"
     ]
    }
   ],
   "source": [
    "#task-10\n",
    "import random\n",
    "def shefting(l,start,size):\n",
    "    s=start\n",
    "    size=size\n",
    "    while len(l)>1:\n",
    "        t=[0]*len(l) # t=d,e,f,g,a,b,c,d\n",
    "        i=0\n",
    "        if s>=len(t):\n",
    "            s=len(t)//2\n",
    "            #print(s)\n",
    "        while i<len(t):\n",
    "           # print(\"s=\",s,\"i=\",i)\n",
    "            t[s]=l[i]\n",
    "            i=i+1\n",
    "            s=(s+1)%len(t)\n",
    "        s=size-1\n",
    "        l=t\n",
    "        n=random.randint(0,3)\n",
    "        if n==1:\n",
    "            del(t[len(t)//2])\n",
    "        if len(t)==1:\n",
    "            print(\"Winner: \",t)\n",
    "        else:\n",
    "            print(t)       \n",
    "#l=['asif','imtiaz','tahsin','fouzia','sadman','tahmid','gandu']  \n",
    "l=[\"a\",\"b\",\"c\",\"d\",\"e\",\"f\",\"g\"]\n",
    "shefting(l,4,7)"
   ]
  },
  {
   "cell_type": "code",
   "execution_count": 28,
   "metadata": {},
   "outputs": [
    {
     "name": "stdout",
     "output_type": "stream",
     "text": [
      "Winner : Sadman\n"
     ]
    }
   ],
   "source": [
    "#task-10\n",
    "import random\n",
    "def shefting(l,start,size):\n",
    "    s=start\n",
    "    size=size\n",
    "    while size>1:\n",
    "        t=[0]*len(l)\n",
    "        i=0\n",
    "        if s>=len(t):\n",
    "            s=len(t)//2\n",
    "            #print(s)\n",
    "            \n",
    "        while i<len(t):\n",
    "            t[s]=l[i]\n",
    "            i=i+1\n",
    "            s=(s+1)%len(t)\n",
    "        s=size-1\n",
    "        l=t\n",
    "        n=random.randint(0,3)\n",
    "        #print(n,'',l)\n",
    "        if n==1:\n",
    "            if t[size//2]!=0:\n",
    "                t[size//2]=0\n",
    "                size=size-1\n",
    "            #print(l)\n",
    "        \n",
    "    return l       \n",
    "lst=['Asif','Imtiaz','Daniel','Sadman','Rabbani','Tahmid','Arian']  \n",
    "#l=[\"a\",\"b\",\"c\",\"d\",\"e\",\"f\",\"g\"]\n",
    "start=1\n",
    "size=7\n",
    "ans=shefting(lst,start,size)\n",
    "for i in ans:\n",
    "    if i!=0:\n",
    "        print(\"Winner :\",i)"
   ]
  },
  {
   "cell_type": "code",
   "execution_count": 256,
   "metadata": {},
   "outputs": [
    {
     "name": "stdout",
     "output_type": "stream",
     "text": [
      "After one eliminated, remain participant = ['SAD', 'TAW', 'ISH', 0, 'ROY', 'MAT', 'NZN']\n",
      "After one eliminated, remain participant = ['TAW', 'ISH', 'ROY', 0, 'NZN', 'SAD']\n",
      "After one eliminated, remain participant = ['NZN', 'SAD', 0, 'ISH', 'ROY']\n",
      "After one eliminated, remain participant = ['ISH', 'ROY', 0, 'SAD']\n",
      "After one eliminated, remain participant = ['ROY', 0, 'ISH']\n",
      "After one eliminated, remain participant = ['ISH', 0]\n",
      "Winner : ISH\n"
     ]
    }
   ],
   "source": [
    "#task-10 FOUZIA\n",
    "import random\n",
    "def  musical_chair_game(l1,start,size):\n",
    "    s=start\n",
    "    #s=(start+size-1)%len(l1)\n",
    "    size=size\n",
    "    while size>1:\n",
    "        l=[0]*size\n",
    "        i=0\n",
    "        while i<len(l):\n",
    "            l[i]=l1[s]\n",
    "            i+=1\n",
    "            s=(s+1)%len(l1)\n",
    "        n=random.randint(0,3)\n",
    "        #print(l)  # to check they moving clock wise\n",
    "        if n==1:\n",
    "            l[size//2]=0\n",
    "            s=(size//2)+1\n",
    "            size-=1\n",
    "            print(\"After one eliminated, remain participant =\",l)\n",
    "        else:\n",
    "            s=(size-1)%len(l)\n",
    "            #s=1\n",
    "        l1=l\n",
    "    return l1[0]  \n",
    "l=[\"NZN\",\"SAD\",\"TAW\",\"ISH\",\"RYB\",\"ROY\",\"MAT\"]\n",
    "print(\"Winner :\",musical_chair_game(l,1,7))"
   ]
  },
  {
   "cell_type": "code",
   "execution_count": 27,
   "metadata": {},
   "outputs": [
    {
     "name": "stdout",
     "output_type": "stream",
     "text": [
      "[10, 20, 30, 40, 50]\n",
      "Output: [10,20,30,40,50]\n"
     ]
    }
   ],
   "source": [
    "def Intersection(Cir_arr_1,start_1 ,size_1 ,Cir_arr_2,start_2,size_2 ):\n",
    "    index_1=start_1\n",
    "    index_2=start_2\n",
    "    if size_1<size_2:\n",
    "        l=[0]*size_1\n",
    "    else:\n",
    "        l=[0]*size_2\n",
    "    for i in range(0,size_1):\n",
    "        index_2=start_2\n",
    "        for j in range(0,size_2):\n",
    "            if Cir_arr_1[index_1]==Cir_arr_2[index_2]:\n",
    "                \n",
    "                l[i]=Cir_arr_1[index_1]\n",
    "            index_2=(index_2+1)%len(Cir_arr_2)\n",
    "        index_1=(index_1+1)%len(Cir_arr_1)\n",
    "    print(l)\n",
    "    print(\"Output: [\",end=\"\")\n",
    "    j=0\n",
    "    for i in range(0,len(l)):\n",
    "        if l[i]>0 and (i+1==len(l)-1) and (l[i+1]==0) :\n",
    "            print(l[i],end=\"\")\n",
    "        elif (l[i]>0) and (i+1==len(l)-1) and (l[i+1]!=0) :\n",
    "            print(l[i],end=\",\")\n",
    "            print(l[i+1],end=\"\")\n",
    "            break\n",
    "            \n",
    "        elif (i==len(l)-1) and (l[i]!=0):\n",
    "            print(l[i],end=\"\")\n",
    "        elif l[i]>0 :\n",
    "            print(l[i],end=\",\")\n",
    "            \n",
    "    print(\"]\")\n",
    "    \n",
    "    \n",
    "Cir_arr_1 = [40,50,0,0,0,10,20,30] \n",
    "start_1 =5\n",
    "size_1 =5\n",
    "Cir_arr_2 = [10,20,5,0,0,0,0,0,5,40,15,25,30,50] \n",
    "start_2=8\n",
    "size_2 =8  \n",
    "Intersection(Cir_arr_1,start_1 ,size_1 ,Cir_arr_2,start_2,size_2 )"
   ]
  },
  {
   "cell_type": "code",
   "execution_count": 39,
   "metadata": {},
   "outputs": [
    {
     "name": "stdout",
     "output_type": "stream",
     "text": [
      "Thandu Kundu Lendu Gandu Handu Jhandu ----->They are in still in game\n",
      "Jhandu Thandu Kundu Gandu Handu ----->They are in still in game\n",
      "Handu Jhandu Kundu Gandu ----->They are in still in game\n",
      "Gandu Handu Kundu ----->They are in still in game\n",
      "Kundu Handu ----->They are in still in game\n",
      "Handu ----->They are in still in game\n",
      "Winer: Handu\n"
     ]
    }
   ],
   "source": [
    "import random\n",
    "    \n",
    "def music_chair_Game(info,start,size):\n",
    "    \n",
    "    l=[0]*size     \n",
    "    index=start\n",
    "    i=0\n",
    "    while size>1:\n",
    "        #index=(start+size-1)%len(info)\n",
    "        index=start\n",
    "        for j in range(0,len(info)):\n",
    "            l[index]=info[j]\n",
    "            index=(index+1)%len(info)\n",
    "               \n",
    "        n = random.randint(0,3)\n",
    "        #print(n,\"=\",l,\"after loop\")\n",
    "        if n==1:\n",
    "            l[size//2]=0\n",
    "            size-=1\n",
    "            for i in l:\n",
    "                if i!=0:\n",
    "                    print(i,end=\" \")\n",
    "            print(\"----->They are in still in game\")\n",
    "            #print(l,\"After elimination\")\n",
    "        k=[0]*(size)\n",
    "        j=0\n",
    "        for i in range(0,len(l)):\n",
    "            if l[i]!=0:\n",
    "                k[j]=l[i]\n",
    "                j+=1\n",
    "            if j==size:\n",
    "                break\n",
    "        info=k\n",
    "        l=[0]*size\n",
    "        i+=1\n",
    "        #print(\"k=\",k)\n",
    "    return k[0]\n",
    "info=[\"Pandu\", \"Gandu\", \"Handu\", \"Jhandu\", \"Thandu\", \"Kundu\", \"Lendu\"]\n",
    "start= 1\n",
    "size= 7\n",
    "print(\"Winer:\",music_chair_Game(info,start,size))"
   ]
  },
  {
   "cell_type": "code",
   "execution_count": 3,
   "metadata": {},
   "outputs": [
    {
     "name": "stdout",
     "output_type": "stream",
     "text": [
      "1,2,3\n",
      "<class 'int'>\n"
     ]
    }
   ],
   "source": [
    "a,b,c=map(int,input().split(\",\"))\n",
    "print(type(a))"
   ]
  },
  {
   "cell_type": "code",
   "execution_count": null,
   "metadata": {},
   "outputs": [],
   "source": [
    "rom=read only memory\n",
    "file save=writing\n",
    "file open= reading"
   ]
  }
 ],
 "metadata": {
  "kernelspec": {
   "display_name": "Python 3",
   "language": "python",
   "name": "python3"
  },
  "language_info": {
   "codemirror_mode": {
    "name": "ipython",
    "version": 3
   },
   "file_extension": ".py",
   "mimetype": "text/x-python",
   "name": "python",
   "nbconvert_exporter": "python",
   "pygments_lexer": "ipython3",
   "version": "3.8.5"
  }
 },
 "nbformat": 4,
 "nbformat_minor": 4
}
