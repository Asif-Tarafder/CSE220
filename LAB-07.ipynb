{
 "cells": [
  {
   "cell_type": "code",
   "execution_count": 20,
   "metadata": {},
   "outputs": [
    {
     "name": "stdout",
     "output_type": "stream",
     "text": [
      "5\n",
      "True\n",
      "[-9, -3, 3, 3, 5, 6, 7, 8]\n"
     ]
    }
   ],
   "source": [
    "#Task-01\n",
    "class KeyIndex:\n",
    "    \n",
    "    #max and min find\n",
    "    def __init__(self,a):\n",
    "        self.array=[a]  # sort method r search method a kaj korar konno\n",
    "        mx=a[0]\n",
    "        mn=a[0]\n",
    "        \n",
    "        for i in a:\n",
    "            if i>mx:\n",
    "                mx=i\n",
    "            if i<mn:\n",
    "                mn=i\n",
    "        \n",
    "        # axulari list ar length koto hobay  \n",
    "        if mn<0 and (mn*-1)>mx:\n",
    "            mx=mn*-1        \n",
    "        self.array.append(mx)\n",
    "        k=[0]*((mx*2)+1)\n",
    "        \n",
    "        \n",
    "        \n",
    "        # axulary list creating\n",
    "        for i in a:\n",
    "            if k[i+mx]!=0:\n",
    "                k[i+mx]=k[i+mx]+1\n",
    "                \n",
    "            else:\n",
    "                k[i+mx]=1\n",
    "                \n",
    "                \n",
    "        self.array.append(k)\n",
    "        #print(self.array[2])\n",
    "\n",
    "\n",
    "#############################################\n",
    "    def search(self,val):\n",
    "        \n",
    "        k=self.array[2]\n",
    "\n",
    "        if k[val+self.array[1]]==0:\n",
    "            return(False)\n",
    "        else:\n",
    "            return(True)\n",
    "        \n",
    "###############################################\n",
    "        \n",
    "    def sort(self):\n",
    "        a=self.array[0]\n",
    "        k=self.array[2]\n",
    "        #print(k)\n",
    "        i=0\n",
    "        while i<len(a)-1:\n",
    "            for y in range(len(k)): \n",
    "                if k[y]!=0:              \n",
    "                    for z in range(k[y]):\n",
    "                        #print(y,\"y\")\n",
    "                        a[i]=y-self.array[1]\n",
    "                        i=i+1\n",
    "                        if i==9:\n",
    "                            break\n",
    "        return a\n",
    "\n",
    "######################################################                        \n",
    "\n",
    "#Tester\n",
    "            \n",
    "a=[3,6,-9,5,-3,8,3,7]\n",
    "#print(a)\n",
    "obj=KeyIndex(a)\n",
    "n=int(input())\n",
    "ans=obj.search(n)\n",
    "print(ans)\n",
    "ans=obj.sort()\n",
    "print(ans)"
   ]
  },
  {
   "cell_type": "code",
   "execution_count": 19,
   "metadata": {},
   "outputs": [
    {
     "name": "stdout",
     "output_type": "stream",
     "text": [
      "48 57\n"
     ]
    }
   ],
   "source": [
    "print(ord(\"0\"),ord(\"9\"))"
   ]
  },
  {
   "cell_type": "code",
   "execution_count": 21,
   "metadata": {},
   "outputs": [
    {
     "name": "stdout",
     "output_type": "stream",
     "text": [
      "['SADCSE111', 'TAWCSE111', 'RYBCSE260', 'SEJCSE220', 'SZICSE230', 'NZNCSE110', 'HNNMAT110', 'MZK120', 'ISHCSE110']\n"
     ]
    }
   ],
   "source": [
    "def heshing(a):\n",
    "    h_l=[None]*len(a)\n",
    "    vowel=\"AEIOU\"\n",
    "    number=\"0123456789\"\n",
    "    \n",
    "    for i in a:\n",
    "        sm=0\n",
    "        con_count=0\n",
    "        \n",
    "        # each string \n",
    "        for j in i:\n",
    "            if j in number:\n",
    "                sm=sm+int(j)\n",
    "                \n",
    "            elif (ord(j)>64 and ord(j)<91 ):\n",
    "                if j not in vowel:\n",
    "                    con_count=con_count+1\n",
    "            \n",
    "               \n",
    "        pos=((con_count*24)+sm)%9\n",
    "        if pos>len(a)-1:\n",
    "            pos=0\n",
    "        \n",
    "        if h_l[pos]!=None:\n",
    "            p=Linear_probing(pos+1,h_l)  \n",
    "            h_l[p]=i\n",
    "            #print(h_l)\n",
    "            \n",
    "        else:\n",
    "            h_l[pos]=i\n",
    "            #print(h_l)\n",
    "    return(h_l)  \n",
    "\n",
    "def Linear_probing(pos,h_l) :\n",
    "    if pos>len(h_l)-1:\n",
    "        pos=0\n",
    "    while h_l[pos]!=None:\n",
    "        pos=pos+1\n",
    "        if pos>8:\n",
    "            pos=0\n",
    "    return pos\n",
    "\n",
    "\n",
    "\n",
    "a=[\"NZNCSE110\",\"ISHCSE110\",\"SADCSE111\",\"TAWCSE111\",\"RYBCSE260\",\"SEJCSE220\",\"SZICSE230\",\"HNNMAT110\",\"MZK120\"]\n",
    "print(heshing(a))  \n",
    "    "
   ]
  },
  {
   "cell_type": "code",
   "execution_count": null,
   "metadata": {},
   "outputs": [],
   "source": []
  },
  {
   "cell_type": "code",
   "execution_count": null,
   "metadata": {},
   "outputs": [],
   "source": []
  }
 ],
 "metadata": {
  "kernelspec": {
   "display_name": "Python 3 (ipykernel)",
   "language": "python",
   "name": "python3"
  },
  "language_info": {
   "codemirror_mode": {
    "name": "ipython",
    "version": 3
   },
   "file_extension": ".py",
   "mimetype": "text/x-python",
   "name": "python",
   "nbconvert_exporter": "python",
   "pygments_lexer": "ipython3",
   "version": "3.9.12"
  }
 },
 "nbformat": 4,
 "nbformat_minor": 4
}
